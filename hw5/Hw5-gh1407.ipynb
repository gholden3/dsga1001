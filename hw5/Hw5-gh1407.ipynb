{
 "cells": [
  {
   "cell_type": "markdown",
   "metadata": {},
   "source": [
    "# Introduction to Data Science\n",
    "## Homework 5"
   ]
  },
  {
   "cell_type": "markdown",
   "metadata": {},
   "source": [
    "Student Name: Gina Holden\n",
    "\n",
    "Student Netid: gh1407\n",
    "***"
   ]
  },
  {
   "cell_type": "markdown",
   "metadata": {},
   "source": [
    "### Part 1: Naive Bayes (5 Points)"
   ]
  },
  {
   "cell_type": "markdown",
   "metadata": {},
   "source": [
    "1\\. From your reading you know that the naive Bayes classifier works by calculating the conditional probabilities of each feature, $e_i$, occuring with each class $c$ and treating them independently. This results in the probability of a certain class occuring given a set of features, or a piece of evidence, $E$, as\n",
    "\n",
    "$$P(c \\mid E) = \\frac{p(e_1 \\mid c) \\cdot p(e_2 \\mid c) \\cdot \\cdot \\cdot p(e_k \\mid c) \\cdot p(c)}{p(E)}.$$\n",
    "\n",
    "The conditional probability of each piece of evidence occuring with a given class is given by\n",
    "\n",
    "$$P(e_i \\mid c) = \\frac{\\text{count}(e_i, c)}{\\text{count}(c)}.$$\n",
    "\n",
    "In the above equation $\\text{count}(e_i, c)$ is the number of documents in a given class that contain feature $e_i$ and $\\text{count}(c)$ is the number of documents that belong to class $c$. \n",
    "\n",
    "A common variation of the above is to use Laplace (sometimes called +1) smoothing. Recall the use of Laplace smoothing introduced toward the end of Chapter 3 in the section Probability Estimation. This is done in sklearn by setting `alpha=1` in the `BernoulliNB()` function (this is also the default behavior). The result of Laplace smoothing will slightly change the conditional probabilities,\n",
    "\n",
    "$$P(e_i \\mid c) = \\frac{\\text{count}(e_i, c) + 1}{\\text{count}(c) + 2}.$$\n",
    "\n",
    "In no more than **one paragraph**, describe why this is useful, and use the bias-variance tradeoff to justify its use. Try to think of a case when not using Laplace smoothing would result in \"bad\" models. Try to give an example. Be precise."
   ]
  },
  {
   "cell_type": "markdown",
   "metadata": {},
   "source": [
    "It seems like laplace smoothing is used as a small sample correction. Since with naive bayes, you multiply all the conditional probabilities, if any of the conditional probabilities are not found in the sample, it makes the product equal to zero. Depending on your sample, especially if it is small, you may not see every feature variable in each condition. So laplace smoothing lets you still get some information out of the probabilites, especially if the other features have information to give. Using laplace smoothing reduces variance because it drags your probabilities closer to equal. This could be at the cost of higher bias. Not using laplace could result in bad models when your sample size is small. For example, in nlp, if we are trying to classify a test string, we separate out probabilities by single words, and one of the words in the test string has never been seen in the training data, the model would predict zero probability for that class even if all of the other words have very high probabilities. "
   ]
  },
  {
   "cell_type": "markdown",
   "metadata": {},
   "source": [
    "### Part 2: Text classification for sentiment analysis (20 Points)\n",
    "For this part of the assignment, we are going to use a data set of movie ratings from IMDB.com. The data consists of the text of a movie review and a target variable which tells us whether the reviewer had a positive feeling towards the movie (equivalent to rating the movie between 7 and 10) or a negative feeling (rating the movie between 1 and 4). Neutral reactions are not included in the data.\n",
    "\n",
    "The first column is the review text; the second is the text label 'P' for positive or 'N' for negative."
   ]
  },
  {
   "cell_type": "markdown",
   "metadata": {},
   "source": [
    "1 (1 Point) \\. Load the data into a pandas `DataFrame()`."
   ]
  },
  {
   "cell_type": "code",
   "execution_count": 65,
   "metadata": {},
   "outputs": [],
   "source": [
    "import pandas as pd\n",
    "imdb_df =  pd.read_csv(\"imdb.csv\")\n",
    "imdb_df.head()\n",
    "imdb_df = imdb_df.dropna()"
   ]
  },
  {
   "cell_type": "markdown",
   "metadata": {},
   "source": [
    "2 (1 Point)\\. Code the target variable to be numeric: use the value `1` to represent 'P' and `0` to represent 'N'."
   ]
  },
  {
   "cell_type": "code",
   "execution_count": 66,
   "metadata": {},
   "outputs": [
    {
     "data": {
      "text/html": [
       "<div>\n",
       "<style scoped>\n",
       "    .dataframe tbody tr th:only-of-type {\n",
       "        vertical-align: middle;\n",
       "    }\n",
       "\n",
       "    .dataframe tbody tr th {\n",
       "        vertical-align: top;\n",
       "    }\n",
       "\n",
       "    .dataframe thead th {\n",
       "        text-align: right;\n",
       "    }\n",
       "</style>\n",
       "<table border=\"1\" class=\"dataframe\">\n",
       "  <thead>\n",
       "    <tr style=\"text-align: right;\">\n",
       "      <th></th>\n",
       "      <th>Text</th>\n",
       "      <th>Class</th>\n",
       "      <th>Class_codes</th>\n",
       "    </tr>\n",
       "  </thead>\n",
       "  <tbody>\n",
       "    <tr>\n",
       "      <td>0</td>\n",
       "      <td>'One of the first of the best musicals Anchors...</td>\n",
       "      <td>P</td>\n",
       "      <td>1</td>\n",
       "    </tr>\n",
       "    <tr>\n",
       "      <td>1</td>\n",
       "      <td>'Visually disjointed and full of itself the di...</td>\n",
       "      <td>N</td>\n",
       "      <td>0</td>\n",
       "    </tr>\n",
       "    <tr>\n",
       "      <td>2</td>\n",
       "      <td>'These type of movies about young teenagers st...</td>\n",
       "      <td>P</td>\n",
       "      <td>1</td>\n",
       "    </tr>\n",
       "    <tr>\n",
       "      <td>3</td>\n",
       "      <td>'I would rather of had my eyes gouged out with...</td>\n",
       "      <td>N</td>\n",
       "      <td>0</td>\n",
       "    </tr>\n",
       "    <tr>\n",
       "      <td>4</td>\n",
       "      <td>'The title says it all. Tail Gunner Joe was a ...</td>\n",
       "      <td>N</td>\n",
       "      <td>0</td>\n",
       "    </tr>\n",
       "  </tbody>\n",
       "</table>\n",
       "</div>"
      ],
      "text/plain": [
       "                                                Text Class  Class_codes\n",
       "0  'One of the first of the best musicals Anchors...     P            1\n",
       "1  'Visually disjointed and full of itself the di...     N            0\n",
       "2  'These type of movies about young teenagers st...     P            1\n",
       "3  'I would rather of had my eyes gouged out with...     N            0\n",
       "4  'The title says it all. Tail Gunner Joe was a ...     N            0"
      ]
     },
     "execution_count": 66,
     "metadata": {},
     "output_type": "execute_result"
    }
   ],
   "source": [
    "rating_map = {\n",
    "           'N': 0,\n",
    "           'P': 1}\n",
    "imdb_df['Class_codes'] = imdb_df['Class'].map(rating_map)\n",
    "imdb_df.head()"
   ]
  },
  {
   "cell_type": "markdown",
   "metadata": {},
   "source": [
    "3 (2 Points)\\. Put all of the text into a data frame called `X` and the target variable in a data frame called `Y`. Make a train/test split where you give 75% of the data to training. Feel free to use any function from sklearn."
   ]
  },
  {
   "cell_type": "code",
   "execution_count": 68,
   "metadata": {},
   "outputs": [],
   "source": [
    "from sklearn.model_selection import train_test_split\n",
    "X = imdb_df[\"Text\"]\n",
    "Y = imdb_df[\"Class_codes\"]\n",
    "X_train, X_test, y_train, y_test = train_test_split( X, Y, test_size=0.25)"
   ]
  },
  {
   "cell_type": "markdown",
   "metadata": {},
   "source": [
    "4 (5 Points)\\. Create a binary `CountVectorizer()` and a binary `TfidfVectorizer()`. Use the original single words as well as bigrams (in the same model). Also, use an \"english\" stop word list. Fit these to the training data to extract a vocabulary and then transform both the train and test data. Hint - look at the API documentation for both vectorizers to see what we mean by \"binary.\""
   ]
  },
  {
   "cell_type": "code",
   "execution_count": 69,
   "metadata": {},
   "outputs": [],
   "source": [
    "from sklearn.feature_extraction.text import CountVectorizer\n",
    "from sklearn.feature_extraction.text import TfidfVectorizer\n",
    "\n",
    "count_vectorizer = CountVectorizer(analyzer='word', ngram_range=(1,2), stop_words='english', binary=True)\n",
    "X_train_count_vector = vectorizer.fit_transform(X_train)\n",
    "X_test_count_vector = vectorizer.transform(X_test)\n",
    "\n",
    "tfidf_vectorizer = TfidfVectorizer(analyzer='word', ngram_range=(1,2), stop_words='english', binary=True)\n",
    "X_train_tfidf_vector = tfidf_vectorizer.fit_transform(X_train)\n",
    "X_test_tfidf_vector = tfidf_vectorizer.transform(X_test)\n"
   ]
  },
  {
   "cell_type": "markdown",
   "metadata": {},
   "source": [
    "5 (6 Points)\\. Create `LogisticRegression()` and `BernoulliNB()` models. For all settings, keep the default values. In a single plot, show the AUC curve for both classifiers and both vectorizers defined above. In the legend, include the area under the ROC curve (AUC). Do not forget to label your axes. Your final plot will be a single window with 4 curves.\n",
    "\n",
    "Which model do you think does a better job? Why? Explain in no more than a paragraph.\n",
    "\n",
    "Extra credit (2 points): Do any of the options perform identically? If so, can you explain why?"
   ]
  },
  {
   "cell_type": "code",
   "execution_count": 75,
   "metadata": {},
   "outputs": [],
   "source": [
    "from sklearn.linear_model import LogisticRegression\n",
    "from sklearn.naive_bayes import BernoulliNB\n",
    "from sklearn import metrics\n",
    "\n",
    "logisticRegr_count = LogisticRegression( solver='lbfgs')\n",
    "logisticRegr_count.fit(X_train_count_vector, y_train.values)\n",
    "predictions = logisticRegr_count.predict(X_test_count_vector)\n",
    "predicted_probabilities = logisticRegr_count.predict_proba(X_test_count_vector)[:, 1]\n",
    "fpr_lr_count, tpr_lr_count, threshold = metrics.roc_curve(y_test.values, predicted_probabilities)\n",
    "roc_auc_lr_count = metrics.auc(fpr_lr_count, tpr_lr_count)\n",
    "\n",
    "logisticRegr_tfidf = LogisticRegression( solver='lbfgs')\n",
    "logisticRegr_tfidf.fit(X_train_tfidf_vector, y_train.values)\n",
    "predictions = logisticRegr_tfidf.predict(X_test_tfidf_vector)\n",
    "predicted_probabilities = logisticRegr_tfidf.predict_proba(X_test_tfidf_vector)[:, 1]\n",
    "fpr_lr_tfidf, tpr_lr_tfidf, threshold = metrics.roc_curve(y_test.values, predicted_probabilities)\n",
    "roc_auc_lr_tfidf = metrics.auc(fpr_lr_tfidf, tpr_lr_tfidf)\n",
    "\n"
   ]
  },
  {
   "cell_type": "code",
   "execution_count": 78,
   "metadata": {},
   "outputs": [],
   "source": [
    "\n",
    "clf_count = BernoulliNB()\n",
    "clf_count.fit(X_train_count_vector, y_train.values)\n",
    "predicted_probabilities = clf_count.predict_proba(X_test_count_vector)[:, 1]\n",
    "fpr_nb_count, tpr_nb_count, threshold = metrics.roc_curve(y_test.values, predicted_probabilities)\n",
    "roc_auc_nb_count = metrics.auc(fpr_nb_count, tpr_nb_count)"
   ]
  },
  {
   "cell_type": "code",
   "execution_count": 81,
   "metadata": {},
   "outputs": [],
   "source": [
    "clf_tfidf = BernoulliNB()\n",
    "clf_tfidf.fit(X_train_tfidf_vector, y_train.values)\n",
    "predicted_probabilities = clf_tfidf.predict_proba(X_test_tfidf_vector)[:, 1]\n",
    "fpr_nb_tfidf, tpr_nb_tfidf, threshold = metrics.roc_curve(y_test.values, predicted_probabilities)\n",
    "roc_auc_nb_tfidf = metrics.auc(fpr_nb_tfidf, tpr_nb_tfidf)"
   ]
  },
  {
   "cell_type": "code",
   "execution_count": 86,
   "metadata": {},
   "outputs": [
    {
     "data": {
      "image/png": "[encoded data removed]",
      "text/plain": [
       "<Figure size 864x864 with 1 Axes>"
      ]
     },
     "metadata": {
      "needs_background": "light"
     },
     "output_type": "display_data"
    }
   ],
   "source": [
    "# Run this so your plots show properly\n",
    "import matplotlib.pyplot as plt\n",
    "%matplotlib inline\n",
    "plt.rcParams['figure.figsize'] = 12, 12\n",
    "\n",
    "plt.title('Receiver Operating Characteristic')\n",
    "plt.plot(fpr_lr_count, tpr_lr_count, 'b', label = 'Logistic Regression w/Count vector. AUC = %0.4f' % roc_auc_lr_count)\n",
    "plt.plot(fpr_lr_tfidf, tpr_lr_tfidf, 'g', label = 'Logistic Regression w/Tfidf vector. AUC = %0.4f' % roc_auc_lr_tfidf)\n",
    "\n",
    "plt.plot(fpr_nb_tfidf, tpr_nb_tfidf, 'y', label = 'Naive Bayes w/tfidv vector. AUC = %0.4f' % roc_auc_nb_tfidf)\n",
    "plt.plot(fpr_nb_count, tpr_nb_count, 'r', label = 'Naive Bayes w/count vector. AUC = %0.4f' % roc_auc_nb_count)\n",
    "plt.legend(loc = 'lower right')\n",
    "plt.xlim([0, 1])\n",
    "plt.ylim([0, 1])\n",
    "plt.ylabel('True Positive Rate')\n",
    "plt.xlabel('False Positive Rate')\n",
    "plt.show()\n"
   ]
  },
  {
   "cell_type": "markdown",
   "metadata": {},
   "source": [
    "Its looking like logistic regression does better for lower false positive rate and lower true positive rate (precision). Once youget closer to .3 fpr and ~.95 tpr all methods seem to do the same. I would assume bayes does less well than logistic regression because it assumes all words are independant. I'm sure adding the bigrams helps with this, but still sometimes knowing the two words before a third word can change the meaning of the third. So naive bayes may have a higher bias. But it doesn't seem too bad, the auc's are all still within .01 of eachother. \n",
    "\n",
    "extra credit: Naive bayes with tfidf and just counts perform the same. Since probabilities in naive bayes already take into account the probabilities of each event in the whole dataset (ie document frequency): \n",
    "$$P(e_i \\mid c) = \\frac{\\text{count}(e_i, c)}{\\text{count}(c)}.$$\n",
    ", and since we did binary counts, the count of a feature will be normalized by the number of occurances anyway, same as tf/idf. Both methods will then predict the same way. "
   ]
  },
  {
   "cell_type": "markdown",
   "metadata": {
    "collapsed": true
   },
   "source": [
    "5\\. Use the model from question 4 that you think did the best job and predict the rating of the test data. Find 5 examples were labeled positive, but were incorrectly classified as negative. Print out the reviews below and include an explanation as to why you think it may have been incorrectly classified. You can pick any 5. They do not have to be at random."
   ]
  },
  {
   "cell_type": "code",
   "execution_count": 108,
   "metadata": {},
   "outputs": [
    {
     "name": "stdout",
     "output_type": "stream",
     "text": [
      "[\"'hi Im from Taft California and i like this movie because it shows how us little town people love our sports football is the main thing in Taft and this movie shows just how important it is i personally think they should make another one but instead of actors use us kids to play the games well show you our determination weve beat Bakersfield every game for the past 6 years and since Im a senior next year its my last chance and then its college weve had running backs lead the state and Im next if you want to know me Im kyle Taylor and i average seven to eight yards a carry and about five times a game ill break away on a 75 or around that yard run so check us out at our website and go to our sports page bye'\"\n",
      " \"'I rated this a ten just because I find it so impressive what a single eighteen year old can do with a video camera. Its no epic but its plenty engaging and I was never bored. If tens of millions of dollars can go into the countless bad films that are poured out en masse then give this director the same amount of money and see what happens. I know Ill be lining up at the local cinema for her first major release. Damn good job and well worth the money. What a script! It might be low budget but it beats the hell out of half the major pictures Ive seen lately. Nanavati knows how to tell a story both in writing and on screen. Serious kudos to her cant wait to see more.'\"\n",
      " \"'Just two comments....SEVEN years apart? Hardly evidence of the films relentless pulling-power! As has been mentioned the low-budget telemovie status of 13 GANTRY ROW is a mitigating factor in its limited appeal. Having said that however the thing is not without merit - either as entertainment or as a fright outing per se. True the plot at its most basic is a re-working of THE AMITYVILLE HORROR - only without much horror. More a case of intrigue! Gibney might have made a more worthwhile impression if she had played Halifax -investigating a couple of seemingly unconnected murders with the house as the main suspect. The script is better than average and the production overall of a high standard. It just fails to engage the viewer particularly at key moments. Having picked the DVD up for a mere $3.95 last week at my regular video store I cannot begrudge the expenditure. $10.95 would be an acceptable price for the film. Just dont expect fireworks!'\"\n",
      " \"'It has been some years since I saw this but remember it and would like to see it again. It kind of became a therapy for me with a personal experience of my own. A thirty-five year old man laments over a high-school baseball game in which he missed the ball and his team lost. He thinks about it 20 years later if only Id hit that ball and how his life would be better because of it. Then he gets a chance to find out....and gets a little more than he bargained for. It reminds me so much of when I was in high school I twice tried out for our drill/dance team and didnt make it. This team was the closest thing to a sorority in my school. If you were on it you were all that. I didnt try out till my last two years of HS and after the second time I took it really hard. Id hit and bruised my leg badly just before tryouts and wore tights to cover the bruise and that caused me to not make it. That was in 1987. Through the years even now sometimes I think If only I hadnt hit my leg I wouldve never worn those stupid tights. Now I dont sit and think my life would be any better or even any different had I made it but seeing this movie made me realize that we never really know how different things may be by changing one little thing way back in the past. Who knows it could have changed the course of events to the point that I wouldnt have met my sons father. I would recommend this movie to anyone who has that one moment in the past they wish they could change. Be careful what you wish for!!!'\"\n",
      " \"'First this was a BRAVE film. Ive seen Irreversible and can understand the comparisons. However I cannot begin to understand the people whove trashed this film. I can see how the end may have come off extreme but Id be lying if I didnt say I wished that every guy whos ever forced a woman into sex deserved exactly what Jared got. Conversely it didnt solve anything or make anything better and the fact that the film doesnt pretend to is what made me appreciate it. The comment prior to this one called the film pathetic and claimed no adult would stick with. I certainly did and intently. Im 24 years old. The way the film drags made it realistic to me. People have become so used to eye candy and fast paced plots on screen that if you ask them to concentrate too long on one brick in the foundation of a film not only do they lose interest they demolish whatever has been built and call it rubbish. When in actuality its their lack of patience and comprehension that needs fine tuning and not the product of a creative mind such as Talia Lugacys. Rosario Dawson displayed the numbness of self-destruction flawlessly. I think she portrayed Maya pre and post assault with great ease and the transition between the two is an act I rarely ever see done well. Often times much like the films aimed at teens mentioned in the prior comment the effects of rape are displayed as either extremely manic and impulsive or terribly depressed isolated and lifeless. Dawson in my opinion manages to perform the balancing act so many survivors fall prey to: drone-like existence in the waking hours working some dead end job to survive (and distract) and then overindulging in vices in order to lose themselves in the haze of substance abuse rather than face what sobriety brings. I thought this film told the truth and I appreciated it for finally showing people a different side of rape. So many people let the end of this film devour the middle and the beginning...I believe that Mayas face during the act was the end...not the act itself...not the vengeance or the meaning behind it...just her face... thank you'\"]\n"
     ]
    }
   ],
   "source": [
    "predictions = logisticRegr_tfidf.predict(X_test_tfidf_vector)\n",
    "df = pd.DataFrame({\"xtest\": X_test, 'actual': y_test, 'predicted': predictions})\n",
    "predicted_negative = df['predicted'] == 0\n",
    "labeled_positive = df['actual'] == 1\n",
    "false_negatives = df[predicted_negative & labeled_positive]\n",
    "print(false_negatives.iloc[0:5]['xtest'].values)"
   ]
  },
  {
   "cell_type": "markdown",
   "metadata": {},
   "source": [
    "The first incorrect text is hard to say because it is completely off topic. The first sentence is related to the movei and the rest is about the author's football career. You can't blame our classifier for not learning the tone of sports team advertisements! The second text I would say could be false negative because of the use of swear words. Even though this review is positive when reviewing the tone of the sentences as a whole, the words in isolation or in bigrams may be more commonly associated with negative reviews. Similarly, the third review and fourth review have several words that could seem negative when put out of context, such as \"hardly evidence\" \"low-budget\" \"limited appeal\" \"basic re-working\". The fourth review is also very far off topic. It goes into a narrative of a negative experience of the author. "
   ]
  },
  {
   "cell_type": "code",
   "execution_count": null,
   "metadata": {},
   "outputs": [],
   "source": []
  }
 ],
 "metadata": {
  "anaconda-cloud": {},
  "kernelspec": {
   "display_name": "Python 3",
   "language": "python",
   "name": "python3"
  },
  "language_info": {
   "codemirror_mode": {
    "name": "ipython",
    "version": 3
   },
   "file_extension": ".py",
   "mimetype": "text/x-python",
   "name": "python",
   "nbconvert_exporter": "python",
   "pygments_lexer": "ipython3",
   "version": "3.7.4"
  }
 },
 "nbformat": 4,
 "nbformat_minor": 1
}
