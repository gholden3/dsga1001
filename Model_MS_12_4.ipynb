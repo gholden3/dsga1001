{
 "cells": [
  {
   "cell_type": "code",
   "execution_count": 1,
   "metadata": {},
   "outputs": [],
   "source": [
    "import numpy as np\n",
    "import pandas as pd\n",
    "import matplotlib.pyplot as plt"
   ]
  },
  {
   "cell_type": "code",
   "execution_count": 3,
   "metadata": {},
   "outputs": [],
   "source": [
    "# Read in data\n",
    "data = pd.read_csv(\"Asylum_seekers_per_country_per_year_w_next_year_12_3.csv\")"
   ]
  },
  {
   "cell_type": "code",
   "execution_count": 4,
   "metadata": {},
   "outputs": [],
   "source": [
    "# Create current_population feature\n",
    "curr_pop_list = []\n",
    "for index, row in data.iterrows():\n",
    "    curr_year = str(int(row.Year))\n",
    "    curr_pop = row[curr_year]\n",
    "    curr_pop_list.append(curr_pop)\n",
    "data['current_population']=curr_pop_list\n",
    "\n",
    "# [Not very useful] Create before_2015 feature\n",
    "#data['before_2015'] = (data['Year']<2015).astype(int)"
   ]
  },
  {
   "cell_type": "code",
   "execution_count": 5,
   "metadata": {},
   "outputs": [
    {
     "name": "stdout",
     "output_type": "stream",
     "text": [
      "(3757, 124)\n",
      "(3717, 124)\n",
      "(3576, 124)\n"
     ]
    },
    {
     "data": {
      "text/plain": [
       "(3508, 124)"
      ]
     },
     "execution_count": 5,
     "metadata": {},
     "output_type": "execute_result"
    }
   ],
   "source": [
    "# Remove N/A's in Gdelt fields and current_population (these are mismatched countries, bad records anyways)\n",
    "print(data.shape)\n",
    "data = data.dropna(subset=['QuadClass','NuMentions'])\n",
    "print(data.shape)\n",
    "data = data.dropna(subset=['current_population'])\n",
    "print(data.shape)\n",
    "# Remove N/A's in economic data (hopefully we'll fill some of these)\n",
    "data = data.dropna(subset=['Unemployment Rate',\n",
    "                           'GDP Per Capita',\n",
    "                           'Life expectancy',])\n",
    "\n",
    "data.shape"
   ]
  },
  {
   "cell_type": "code",
   "execution_count": 6,
   "metadata": {},
   "outputs": [],
   "source": [
    "# Create y vector, 2000-2017\n",
    "years = np.arange(2000,2017)\n",
    "# Tried removing 2014 and 2015, but not very impactful\n",
    "#years = np.delete(years,[14,15],axis=0)\n",
    "\n",
    "y = data.loc[data.Year.isin(years),'applied_next_year']\n",
    "\n",
    "# Log of y, the +0.5 adjustment to avoid ln(0) = -inf\n",
    "y_ln = np.log(y+0.5)\n",
    "\n",
    "# Create X feature matrix, including only the columns that we want to predict on in feature_list\n",
    "feature_list = [\n",
    "    'Applied during year_x',\n",
    "    'current_population',\n",
    "    'Unemployment Rate',\n",
    "    'GDP Per Capita',\n",
    "    'Life expectancy',\n",
    "    'GoldsteinScale',\n",
    "    'NuMentions',\n",
    "    'AvgTone',\n",
    "    'QuadClass',\n",
    "    'Goldstein_Neg_5',\n",
    "    'Goldstein_Neg_6',\n",
    "    'Goldstein_Neg_7',\n",
    "    'Goldstein_Neg_8',\n",
    "    'Goldstein_Neg_9',\n",
    "    'Goldstein_Pos_5',\n",
    "    'Goldstein_Pos_6',\n",
    "    'Goldstein_Pos_7',\n",
    "    'Goldstein_Pos_8',\n",
    "    'Goldstein_Pos_9',\n",
    "    'Quad_4_Goldstein_Neg_5',\n",
    "    'Quad_4_Goldstein_Neg_6',\n",
    "    'Quad_4_Goldstein_Neg_7',\n",
    "    'Quad_4_Goldstein_Neg_8',\n",
    "    'Quad_4_Goldstein_Neg_9',\n",
    "    'Event_Code_19_20',\n",
    "    'Extreme_Pos_Tone_Events',\n",
    "    'Extreme_Neg_Tone_Events'\n",
    "    ]\n",
    "X = data.loc[data.Year.isin(years),feature_list]"
   ]
  },
  {
   "cell_type": "code",
   "execution_count": 7,
   "metadata": {},
   "outputs": [
    {
     "data": {
      "text/plain": [
       "Text(0, 0.5, 'Histogram Number of country-years')"
      ]
     },
     "execution_count": 7,
     "metadata": {},
     "output_type": "execute_result"
    },
    {
     "data": {
      "image/png": "[encoded data removed]",
      "text/plain": [
       "<Figure size 432x288 with 1 Axes>"
      ]
     },
     "metadata": {
      "needs_background": "light"
     },
     "output_type": "display_data"
    }
   ],
   "source": [
    "# Plot the histogram of applicant counts per country-year\n",
    "bin_arr = np.arange(0,10000,100)\n",
    "\n",
    "plt.hist(y,bins=bin_arr)\n",
    "plt.xlabel(\"Number of Applicants per country-year\")\n",
    "plt.ylabel(\"Histogram Number of country-years\")"
   ]
  },
  {
   "cell_type": "code",
   "execution_count": 8,
   "metadata": {},
   "outputs": [
    {
     "data": {
      "text/plain": [
       "Text(0, 0.5, 'Histogram Number of country-years')"
      ]
     },
     "execution_count": 8,
     "metadata": {},
     "output_type": "execute_result"
    },
    {
     "data": {
      "image/png": "[encoded data removed]",
      "text/plain": [
       "<Figure size 432x288 with 1 Axes>"
      ]
     },
     "metadata": {
      "needs_background": "light"
     },
     "output_type": "display_data"
    }
   ],
   "source": [
    "# Plot the histogram of ln(applicant counts per country-year)\n",
    "\n",
    "bin_arr_ln = np.arange(0,y_ln.max(),y_ln.max()/100)\n",
    "\n",
    "plt.hist(y_ln,bins=bin_arr_ln)\n",
    "plt.xlabel(\"Ln(Number of Applicants per country-year)\")\n",
    "plt.ylabel(\"Histogram Number of country-years\")"
   ]
  },
  {
   "cell_type": "code",
   "execution_count": 9,
   "metadata": {},
   "outputs": [],
   "source": [
    "# Check for columns with N/A's and count the N/A's\n",
    "for col in X:\n",
    "    if X[col].isna().any():\n",
    "        print(col,X[col].value_counts(dropna=False))"
   ]
  },
  {
   "cell_type": "code",
   "execution_count": 10,
   "metadata": {},
   "outputs": [],
   "source": [
    "# Modeling!\n",
    "from sklearn.preprocessing import Normalizer\n",
    "from sklearn.model_selection import cross_val_score,train_test_split\n",
    "from sklearn.metrics import r2_score\n",
    "\n",
    "from sklearn import linear_model\n",
    "from sklearn import tree\n",
    "from sklearn import ensemble\n",
    "#import xgboost as xgb\n",
    "\n",
    "# Normalize X and y\n",
    "# Note: I'm normalizing (setting mean to 0) not standardizing (setting variance to 1)\n",
    "transformer = Normalizer().fit(X)\n",
    "X_norm = transformer.transform(X)\n",
    "\n",
    "#Train_test_split, post-normalizing\n",
    "X_train, X_test, y_train, y_test = train_test_split(X_norm, y_ln, test_size=0.2)"
   ]
  },
  {
   "cell_type": "code",
   "execution_count": null,
   "metadata": {},
   "outputs": [],
   "source": [
    "# Function for trying out models\n",
    "def test_reg(reg,X_train, X_test, y_train, y_test, index, return_reg=False):\n",
    "    '''test_reg takes a regressor object and the 4 data sets, trains the regressor, makes predictions\n",
    "    on the test set, and prints an r^2 score.  Returns trained regressor if return_reg=True.'''\n",
    "    reg.fit(X_train,y_train)\n",
    "    preds = reg.predict(X_test)\n",
    "    print(reg,\"\\nr^2: \",r2_score(y_test,preds),\"\\n\")\n",
    "\n",
    "    model_name = ['Linear Regression', 'ElasticNetCV', 'Decision Tree Regressor',\n",
    "                 'Random Forest Regressor', 'Gradient Boosting Regressor'][index]\n",
    "    plt.figure(index)\n",
    "    residuals = y_test-preds\n",
    "    plt.title('Residuals: ' + model_name)\n",
    "    plt.ylabel('Residual')\n",
    "    plt.xlabel('Y test - ln(applicants in 2018)')\n",
    "    plt.scatter(preds, residuals)\n",
    "\n",
    "    \n",
    "    \n",
    "    if return_reg:\n",
    "        return reg\n",
    "\n",
    "# Instantiate the regressors\n",
    "LR_reg = linear_model.LinearRegression()\n",
    "EN_reg = linear_model.ElasticNetCV(cv=10)\n",
    "DT_reg = tree.DecisionTreeRegressor()\n",
    "RF_reg = ensemble.RandomForestRegressor(n_estimators=100)\n",
    "GB_reg = ensemble.GradientBoostingRegressor()\n",
    "#XGB_reg = xgb.XGBRegressor(objective='reg:squarederror')\n",
    "\n",
    "# Train and test all models with default settings\n",
    "for index, model  in enumerate([LR_reg,EN_reg,DT_reg,RF_reg,GB_reg]):\n",
    "    test_reg(model,X_train, X_test, y_train, y_test, index) "
   ]
  },
  {
   "cell_type": "code",
   "execution_count": null,
   "metadata": {
    "scrolled": true
   },
   "outputs": [],
   "source": [
    "# Random Forest provides feature_importance...not rock solid, but useful for some context\n",
    "RF_reg.fit(X_train,y_train)\n",
    "\n",
    "for name,imp in zip(X.columns,RF_reg.feature_importances_):\n",
    "    print(\"{}: {:2.2}\".format(name,imp))"
   ]
  },
  {
   "cell_type": "code",
   "execution_count": null,
   "metadata": {},
   "outputs": [],
   "source": [
    "'''# Hyperparameter tuning for the RandomForest model\n",
    "# NOTE: This still isn't working very well.  I'm yet to get a model that beats the defaults.\n",
    "from sklearn.model_selection import GridSearchCV\n",
    "# Create the parameter grid based on the results of random search \n",
    "param_grid = {\n",
    "    'bootstrap': [True],\n",
    "    'max_depth': [80, 90, 100, 110],\n",
    "    'max_features': [2, 3],\n",
    "    'min_samples_leaf': [3, 4, 5],\n",
    "    'min_samples_split': [8, 10, 12],\n",
    "    'n_estimators': [100, 200, 300, 1000]\n",
    "}\n",
    "# Create a based model\n",
    "rf = ensemble.RandomForestRegressor()\n",
    "# Instantiate the grid search model\n",
    "grid_search = GridSearchCV(estimator = rf, param_grid = param_grid, \n",
    "                          cv = 3, n_jobs = -1, verbose = 2)\n",
    "\n",
    "# Fit the grid search to the data\n",
    "grid_search.fit(X_train, y_train)\n",
    "\n",
    "# Make preds and calculate R^2\n",
    "RF_optimized = best_grid = grid_search.best_estimator_\n",
    "preds = best_grid.predict(X_test)\n",
    "print(best_grid,\"\\nr^2: \",r2_score(y_test,preds),\"\\n\")'''"
   ]
  },
  {
   "cell_type": "markdown",
   "metadata": {},
   "source": [
    "## Test Data: 2018"
   ]
  },
  {
   "cell_type": "code",
   "execution_count": 15,
   "metadata": {},
   "outputs": [],
   "source": [
    "# Dependent Variable\n",
    "y_17 = data.loc[data.Year==2017,'applied_next_year']\n",
    "\n",
    "y_ln_17 = np.log(y_17+0.5)\n",
    "\n",
    "# Feature Matrix\n",
    "X_17 = data.loc[data.Year==2017,feature_list]\n",
    "\n",
    "transformer_17 = Normalizer().fit(X_17)\n",
    "X_norm_17 = transformer_17.transform(X_17)\n"
   ]
  },
  {
   "cell_type": "code",
   "execution_count": 16,
   "metadata": {},
   "outputs": [
    {
     "name": "stdout",
     "output_type": "stream",
     "text": [
      "RandomForestRegressor(bootstrap=True, criterion='mse', max_depth=None,\n",
      "                      max_features='auto', max_leaf_nodes=None,\n",
      "                      min_impurity_decrease=0.0, min_impurity_split=None,\n",
      "                      min_samples_leaf=1, min_samples_split=2,\n",
      "                      min_weight_fraction_leaf=0.0, n_estimators=100,\n",
      "                      n_jobs=None, oob_score=False, random_state=None,\n",
      "                      verbose=0, warm_start=False) \n",
      "r^2:  0.9307999924239471 \n",
      "\n"
     ]
    }
   ],
   "source": [
    "# Predict on 2017\n",
    "def pred_2017(reg,X_17, y_17):\n",
    "    '''Takes a trained model and the final test X and test y, in this case 2017 data.'''\n",
    "    preds = reg.predict(X_17)\n",
    "    print(reg,\"\\nr^2: \",r2_score(y_17,preds),\"\\n\")\n",
    "\n",
    "# Run with best performing model\n",
    "pred_2017(RF_reg,X_norm_17,y_ln_17)"
   ]
  },
  {
   "cell_type": "code",
   "execution_count": null,
   "metadata": {},
   "outputs": [],
   "source": []
  },
  {
   "cell_type": "code",
   "execution_count": null,
   "metadata": {},
   "outputs": [],
   "source": []
  }
 ],
 "metadata": {
  "kernelspec": {
   "display_name": "Python 3",
   "language": "python",
   "name": "python3"
  },
  "language_info": {
   "codemirror_mode": {
    "name": "ipython",
    "version": 3
   },
   "file_extension": ".py",
   "mimetype": "text/x-python",
   "name": "python",
   "nbconvert_exporter": "python",
   "pygments_lexer": "ipython3",
   "version": "3.7.4"
  }
 },
 "nbformat": 4,
 "nbformat_minor": 2
}
