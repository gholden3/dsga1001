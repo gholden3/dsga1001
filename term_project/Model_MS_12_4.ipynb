{
 "cells": [
  {
   "cell_type": "code",
   "execution_count": 46,
   "metadata": {},
   "outputs": [],
   "source": [
    "import numpy as np\n",
    "import pandas as pd\n",
    "import matplotlib.pyplot as plt"
   ]
  },
  {
   "cell_type": "code",
   "execution_count": 47,
   "metadata": {},
   "outputs": [],
   "source": [
    "# Read in data\n",
    "data = pd.read_csv(\"Asylum_seekers_per_country_per_year_w_next_year_12_3.csv\")"
   ]
  },
  {
   "cell_type": "code",
   "execution_count": 48,
   "metadata": {},
   "outputs": [],
   "source": [
    "# Create current_population feature\n",
    "curr_pop_list = []\n",
    "for index, row in data.iterrows():\n",
    "    curr_year = str(int(row.Year))\n",
    "    curr_pop = row[curr_year]\n",
    "    curr_pop_list.append(curr_pop)\n",
    "data['current_population']=curr_pop_list\n",
    "\n",
    "# [Not very useful] Create before_2015 feature\n",
    "#data['before_2015'] = (data['Year']<2015).astype(int)"
   ]
  },
  {
   "cell_type": "code",
   "execution_count": 49,
   "metadata": {},
   "outputs": [
    {
     "name": "stdout",
     "output_type": "stream",
     "text": [
      "(3757, 124)\n",
      "(3717, 124)\n",
      "(3576, 124)\n"
     ]
    },
    {
     "data": {
      "text/plain": [
       "(3508, 124)"
      ]
     },
     "execution_count": 49,
     "metadata": {},
     "output_type": "execute_result"
    }
   ],
   "source": [
    "# Remove N/A's in Gdelt fields and current_population (these are mismatched countries, bad records anyways)\n",
    "print(data.shape)\n",
    "data = data.dropna(subset=['QuadClass','NuMentions'])\n",
    "print(data.shape)\n",
    "data = data.dropna(subset=['current_population'])\n",
    "print(data.shape)\n",
    "# Remove N/A's in economic data (hopefully we'll fill some of these)\n",
    "data = data.dropna(subset=['Unemployment Rate',\n",
    "                           'GDP Per Capita',\n",
    "                           'Life expectancy',])\n",
    "\n",
    "data.shape"
   ]
  },
  {
   "cell_type": "code",
   "execution_count": 118,
   "metadata": {},
   "outputs": [],
   "source": [
    "# Create y vector, 2000-2017\n",
    "years = np.arange(2000,2017)\n",
    "# Tried removing 2014 and 2015, but not very impactful\n",
    "#years = np.delete(years,[14,15],axis=0)\n",
    "\n",
    "y = data.loc[data.Year.isin(years),'applied_next_year']\n",
    "\n",
    "# Log of y, the +0.5 adjustment to avoid ln(0) = -inf\n",
    "y_ln = np.log(y+0.5)\n",
    "\n",
    "# Create X feature matrix, including only the columns that we want to predict on in feature_list\n",
    "feature_list = [\n",
    "    'Applied during year_x',\n",
    "    'current_population',\n",
    "    'Unemployment Rate',\n",
    "    'GDP Per Capita',\n",
    "    'Life expectancy',\n",
    "    'GoldsteinScale',\n",
    "    'NuMentions',\n",
    "    'AvgTone',\n",
    "    'QuadClass',\n",
    "    'Goldstein_Neg_5',\n",
    "    'Goldstein_Pos_5',\n",
    "    'Goldstein_Pos_7',\n",
    "    'Goldstein_Pos_8',\n",
    "    'Goldstein_Pos_9',\n",
    "    'Event_Code_19_20',\n",
    "    'Extreme_Pos_Tone_Events',\n",
    "    'Extreme_Neg_Tone_Events'\n",
    "    ]\n",
    "X = data.loc[data.Year.isin(years),feature_list]"
   ]
  },
  {
   "cell_type": "code",
   "execution_count": 119,
   "metadata": {},
   "outputs": [
    {
     "data": {
      "text/plain": [
       "Text(0, 0.5, 'Histogram Number of country-years')"
      ]
     },
     "execution_count": 119,
     "metadata": {},
     "output_type": "execute_result"
    },
    {
     "data": {
      "image/png": "[encoded data removed]",
      "text/plain": [
       "<Figure size 432x288 with 1 Axes>"
      ]
     },
     "metadata": {
      "needs_background": "light"
     },
     "output_type": "display_data"
    }
   ],
   "source": [
    "# Plot the histogram of applicant counts per country-year\n",
    "bin_arr = np.arange(0,10000,100)\n",
    "\n",
    "plt.hist(y,bins=bin_arr)\n",
    "plt.xlabel(\"Number of Applicants per country-year\")\n",
    "plt.ylabel(\"Histogram Number of country-years\")"
   ]
  },
  {
   "cell_type": "code",
   "execution_count": 120,
   "metadata": {},
   "outputs": [
    {
     "data": {
      "text/plain": [
       "Text(0, 0.5, 'Histogram Number of country-years')"
      ]
     },
     "execution_count": 120,
     "metadata": {},
     "output_type": "execute_result"
    },
    {
     "data": {
      "image/png": "[encoded data removed]",
      "text/plain": [
       "<Figure size 432x288 with 1 Axes>"
      ]
     },
     "metadata": {
      "needs_background": "light"
     },
     "output_type": "display_data"
    }
   ],
   "source": [
    "# Plot the histogram of ln(applicant counts per country-year)\n",
    "\n",
    "bin_arr_ln = np.arange(0,y_ln.max(),y_ln.max()/100)\n",
    "\n",
    "plt.hist(y_ln,bins=bin_arr_ln)\n",
    "plt.xlabel(\"Ln(Number of Applicants per country-year)\")\n",
    "plt.ylabel(\"Histogram Number of country-years\")"
   ]
  },
  {
   "cell_type": "code",
   "execution_count": 121,
   "metadata": {},
   "outputs": [],
   "source": [
    "# Check for columns with N/A's and count the N/A's\n",
    "for col in X:\n",
    "    if X[col].isna().any():\n",
    "        print(col,X[col].value_counts(dropna=False))"
   ]
  },
  {
   "cell_type": "code",
   "execution_count": 170,
   "metadata": {},
   "outputs": [],
   "source": [
    "# Modeling!\n",
    "from sklearn.preprocessing import Normalizer\n",
    "from sklearn.model_selection import cross_val_score,train_test_split\n",
    "from sklearn.metrics import r2_score\n",
    "\n",
    "from sklearn import linear_model\n",
    "from sklearn import tree\n",
    "from sklearn import ensemble\n",
    "#import xgboost as xgb\n",
    "\n",
    "# Normalize X and y\n",
    "# Note: I'm normalizing (setting mean to 0) not standardizing (setting variance to 1)\n",
    "transformer = Normalizer().fit(X)\n",
    "X_norm = transformer.transform(X)\n"
   ]
  },
  {
   "cell_type": "code",
   "execution_count": 171,
   "metadata": {},
   "outputs": [],
   "source": [
    "# from statsmodels.stats.outliers_influence import variance_inflation_factor\n",
    "# from statsmodels.tools.tools import add_constant\n",
    "\n",
    "# X_vif = add_constant(X_norm)\n",
    "# print(pd.Series([variance_inflation_factor(X_vif, i) \n",
    "#                for i in range(X_vif.shape[1])]))\n",
    "# print(X_vif[0:2,:])"
   ]
  },
  {
   "cell_type": "code",
   "execution_count": 168,
   "metadata": {},
   "outputs": [
    {
     "data": {
      "text/html": [
       "<div>\n",
       "<style scoped>\n",
       "    .dataframe tbody tr th:only-of-type {\n",
       "        vertical-align: middle;\n",
       "    }\n",
       "\n",
       "    .dataframe tbody tr th {\n",
       "        vertical-align: top;\n",
       "    }\n",
       "\n",
       "    .dataframe thead th {\n",
       "        text-align: right;\n",
       "    }\n",
       "</style>\n",
       "<table border=\"1\" class=\"dataframe\">\n",
       "  <thead>\n",
       "    <tr style=\"text-align: right;\">\n",
       "      <th></th>\n",
       "      <th>dfb_x1</th>\n",
       "      <th>dfb_x2</th>\n",
       "      <th>dfb_x3</th>\n",
       "      <th>dfb_x4</th>\n",
       "      <th>dfb_x5</th>\n",
       "      <th>dfb_x6</th>\n",
       "      <th>dfb_x7</th>\n",
       "      <th>dfb_x8</th>\n",
       "      <th>dfb_x9</th>\n",
       "      <th>dfb_x10</th>\n",
       "      <th>...</th>\n",
       "      <th>dfb_x14</th>\n",
       "      <th>dfb_x15</th>\n",
       "      <th>dfb_x16</th>\n",
       "      <th>dfb_x17</th>\n",
       "      <th>cooks_d</th>\n",
       "      <th>standard_resid</th>\n",
       "      <th>hat_diag</th>\n",
       "      <th>dffits_internal</th>\n",
       "      <th>student_resid</th>\n",
       "      <th>dffits</th>\n",
       "    </tr>\n",
       "  </thead>\n",
       "  <tbody>\n",
       "    <tr>\n",
       "      <td>0</td>\n",
       "      <td>-0.250551</td>\n",
       "      <td>0.020299</td>\n",
       "      <td>0.037301</td>\n",
       "      <td>-0.003845</td>\n",
       "      <td>-0.001862</td>\n",
       "      <td>-0.012706</td>\n",
       "      <td>0.021054</td>\n",
       "      <td>0.007222</td>\n",
       "      <td>-0.011209</td>\n",
       "      <td>-0.050646</td>\n",
       "      <td>...</td>\n",
       "      <td>-0.032961</td>\n",
       "      <td>0.055691</td>\n",
       "      <td>0.008215</td>\n",
       "      <td>0.038746</td>\n",
       "      <td>0.003739</td>\n",
       "      <td>-1.391849</td>\n",
       "      <td>0.031765</td>\n",
       "      <td>-0.252103</td>\n",
       "      <td>-1.392058</td>\n",
       "      <td>-0.252141</td>\n",
       "    </tr>\n",
       "    <tr>\n",
       "      <td>1</td>\n",
       "      <td>0.029523</td>\n",
       "      <td>0.009007</td>\n",
       "      <td>-0.006295</td>\n",
       "      <td>0.000309</td>\n",
       "      <td>-0.002092</td>\n",
       "      <td>-0.000198</td>\n",
       "      <td>0.002483</td>\n",
       "      <td>-0.002367</td>\n",
       "      <td>-0.000216</td>\n",
       "      <td>0.002976</td>\n",
       "      <td>...</td>\n",
       "      <td>-0.004739</td>\n",
       "      <td>-0.005118</td>\n",
       "      <td>0.000703</td>\n",
       "      <td>-0.006701</td>\n",
       "      <td>0.000096</td>\n",
       "      <td>1.009835</td>\n",
       "      <td>0.001592</td>\n",
       "      <td>0.040326</td>\n",
       "      <td>1.009838</td>\n",
       "      <td>0.040326</td>\n",
       "    </tr>\n",
       "    <tr>\n",
       "      <td>2</td>\n",
       "      <td>0.012708</td>\n",
       "      <td>0.018248</td>\n",
       "      <td>-0.005222</td>\n",
       "      <td>-0.000283</td>\n",
       "      <td>-0.003951</td>\n",
       "      <td>-0.003028</td>\n",
       "      <td>0.003598</td>\n",
       "      <td>-0.000319</td>\n",
       "      <td>-0.001874</td>\n",
       "      <td>-0.001843</td>\n",
       "      <td>...</td>\n",
       "      <td>-0.012489</td>\n",
       "      <td>-0.000878</td>\n",
       "      <td>0.002488</td>\n",
       "      <td>-0.003071</td>\n",
       "      <td>0.000071</td>\n",
       "      <td>1.337089</td>\n",
       "      <td>0.000670</td>\n",
       "      <td>0.034633</td>\n",
       "      <td>1.337257</td>\n",
       "      <td>0.034637</td>\n",
       "    </tr>\n",
       "    <tr>\n",
       "      <td>3</td>\n",
       "      <td>0.003915</td>\n",
       "      <td>0.019269</td>\n",
       "      <td>-0.003936</td>\n",
       "      <td>-0.000856</td>\n",
       "      <td>-0.003385</td>\n",
       "      <td>-0.003939</td>\n",
       "      <td>0.005934</td>\n",
       "      <td>0.001126</td>\n",
       "      <td>-0.003524</td>\n",
       "      <td>-0.003510</td>\n",
       "      <td>...</td>\n",
       "      <td>-0.013028</td>\n",
       "      <td>0.004577</td>\n",
       "      <td>0.000884</td>\n",
       "      <td>-0.001838</td>\n",
       "      <td>0.000052</td>\n",
       "      <td>1.229171</td>\n",
       "      <td>0.000587</td>\n",
       "      <td>0.029778</td>\n",
       "      <td>1.229271</td>\n",
       "      <td>0.029780</td>\n",
       "    </tr>\n",
       "    <tr>\n",
       "      <td>4</td>\n",
       "      <td>0.000033</td>\n",
       "      <td>0.021394</td>\n",
       "      <td>-0.003725</td>\n",
       "      <td>-0.001000</td>\n",
       "      <td>-0.003060</td>\n",
       "      <td>-0.001611</td>\n",
       "      <td>0.003879</td>\n",
       "      <td>-0.000828</td>\n",
       "      <td>-0.001558</td>\n",
       "      <td>-0.001010</td>\n",
       "      <td>...</td>\n",
       "      <td>-0.008507</td>\n",
       "      <td>0.001620</td>\n",
       "      <td>0.001708</td>\n",
       "      <td>-0.001915</td>\n",
       "      <td>0.000043</td>\n",
       "      <td>1.247890</td>\n",
       "      <td>0.000471</td>\n",
       "      <td>0.027092</td>\n",
       "      <td>1.248001</td>\n",
       "      <td>0.027094</td>\n",
       "    </tr>\n",
       "    <tr>\n",
       "      <td>...</td>\n",
       "      <td>...</td>\n",
       "      <td>...</td>\n",
       "      <td>...</td>\n",
       "      <td>...</td>\n",
       "      <td>...</td>\n",
       "      <td>...</td>\n",
       "      <td>...</td>\n",
       "      <td>...</td>\n",
       "      <td>...</td>\n",
       "      <td>...</td>\n",
       "      <td>...</td>\n",
       "      <td>...</td>\n",
       "      <td>...</td>\n",
       "      <td>...</td>\n",
       "      <td>...</td>\n",
       "      <td>...</td>\n",
       "      <td>...</td>\n",
       "      <td>...</td>\n",
       "      <td>...</td>\n",
       "      <td>...</td>\n",
       "      <td>...</td>\n",
       "    </tr>\n",
       "    <tr>\n",
       "      <td>3728</td>\n",
       "      <td>-0.008123</td>\n",
       "      <td>0.008981</td>\n",
       "      <td>0.000327</td>\n",
       "      <td>-0.000523</td>\n",
       "      <td>-0.001682</td>\n",
       "      <td>-0.005855</td>\n",
       "      <td>0.009112</td>\n",
       "      <td>0.003038</td>\n",
       "      <td>-0.005521</td>\n",
       "      <td>-0.008778</td>\n",
       "      <td>...</td>\n",
       "      <td>-0.011761</td>\n",
       "      <td>0.011008</td>\n",
       "      <td>-0.001393</td>\n",
       "      <td>0.000835</td>\n",
       "      <td>0.000033</td>\n",
       "      <td>0.573966</td>\n",
       "      <td>0.001721</td>\n",
       "      <td>0.023834</td>\n",
       "      <td>0.573905</td>\n",
       "      <td>0.023831</td>\n",
       "    </tr>\n",
       "    <tr>\n",
       "      <td>3729</td>\n",
       "      <td>-0.011119</td>\n",
       "      <td>0.014524</td>\n",
       "      <td>-0.000482</td>\n",
       "      <td>-0.001352</td>\n",
       "      <td>-0.002064</td>\n",
       "      <td>-0.006145</td>\n",
       "      <td>0.006446</td>\n",
       "      <td>0.003644</td>\n",
       "      <td>-0.004214</td>\n",
       "      <td>-0.019548</td>\n",
       "      <td>...</td>\n",
       "      <td>-0.008876</td>\n",
       "      <td>0.020532</td>\n",
       "      <td>0.005444</td>\n",
       "      <td>0.016409</td>\n",
       "      <td>0.000059</td>\n",
       "      <td>0.819793</td>\n",
       "      <td>0.001496</td>\n",
       "      <td>0.031732</td>\n",
       "      <td>0.819750</td>\n",
       "      <td>0.031731</td>\n",
       "    </tr>\n",
       "    <tr>\n",
       "      <td>3730</td>\n",
       "      <td>-0.015307</td>\n",
       "      <td>0.014073</td>\n",
       "      <td>0.000002</td>\n",
       "      <td>-0.000904</td>\n",
       "      <td>-0.001700</td>\n",
       "      <td>-0.005993</td>\n",
       "      <td>0.009307</td>\n",
       "      <td>-0.000776</td>\n",
       "      <td>-0.002534</td>\n",
       "      <td>-0.026932</td>\n",
       "      <td>...</td>\n",
       "      <td>-0.011287</td>\n",
       "      <td>0.022783</td>\n",
       "      <td>0.012324</td>\n",
       "      <td>0.021413</td>\n",
       "      <td>0.000132</td>\n",
       "      <td>0.956399</td>\n",
       "      <td>0.002446</td>\n",
       "      <td>0.047354</td>\n",
       "      <td>0.956386</td>\n",
       "      <td>0.047353</td>\n",
       "    </tr>\n",
       "    <tr>\n",
       "      <td>3750</td>\n",
       "      <td>0.078624</td>\n",
       "      <td>-0.054584</td>\n",
       "      <td>-0.015716</td>\n",
       "      <td>-0.012844</td>\n",
       "      <td>0.020268</td>\n",
       "      <td>0.120087</td>\n",
       "      <td>-0.353465</td>\n",
       "      <td>0.114426</td>\n",
       "      <td>0.058598</td>\n",
       "      <td>0.287615</td>\n",
       "      <td>...</td>\n",
       "      <td>-0.005030</td>\n",
       "      <td>-0.287604</td>\n",
       "      <td>-0.080567</td>\n",
       "      <td>-0.030618</td>\n",
       "      <td>0.013928</td>\n",
       "      <td>-2.560789</td>\n",
       "      <td>0.034849</td>\n",
       "      <td>-0.486599</td>\n",
       "      <td>-2.563070</td>\n",
       "      <td>-0.487033</td>\n",
       "    </tr>\n",
       "    <tr>\n",
       "      <td>3752</td>\n",
       "      <td>0.013360</td>\n",
       "      <td>0.011250</td>\n",
       "      <td>-0.005451</td>\n",
       "      <td>-0.009622</td>\n",
       "      <td>-0.007715</td>\n",
       "      <td>-0.011474</td>\n",
       "      <td>0.037883</td>\n",
       "      <td>0.001495</td>\n",
       "      <td>-0.015873</td>\n",
       "      <td>0.006976</td>\n",
       "      <td>...</td>\n",
       "      <td>0.039888</td>\n",
       "      <td>0.001477</td>\n",
       "      <td>0.000201</td>\n",
       "      <td>-0.036230</td>\n",
       "      <td>0.000363</td>\n",
       "      <td>-0.373269</td>\n",
       "      <td>0.042409</td>\n",
       "      <td>-0.078553</td>\n",
       "      <td>-0.373218</td>\n",
       "      <td>-0.078542</td>\n",
       "    </tr>\n",
       "  </tbody>\n",
       "</table>\n",
       "<p>3142 rows × 23 columns</p>\n",
       "</div>"
      ],
      "text/plain": [
       "        dfb_x1    dfb_x2    dfb_x3    dfb_x4    dfb_x5    dfb_x6    dfb_x7  \\\n",
       "0    -0.250551  0.020299  0.037301 -0.003845 -0.001862 -0.012706  0.021054   \n",
       "1     0.029523  0.009007 -0.006295  0.000309 -0.002092 -0.000198  0.002483   \n",
       "2     0.012708  0.018248 -0.005222 -0.000283 -0.003951 -0.003028  0.003598   \n",
       "3     0.003915  0.019269 -0.003936 -0.000856 -0.003385 -0.003939  0.005934   \n",
       "4     0.000033  0.021394 -0.003725 -0.001000 -0.003060 -0.001611  0.003879   \n",
       "...        ...       ...       ...       ...       ...       ...       ...   \n",
       "3728 -0.008123  0.008981  0.000327 -0.000523 -0.001682 -0.005855  0.009112   \n",
       "3729 -0.011119  0.014524 -0.000482 -0.001352 -0.002064 -0.006145  0.006446   \n",
       "3730 -0.015307  0.014073  0.000002 -0.000904 -0.001700 -0.005993  0.009307   \n",
       "3750  0.078624 -0.054584 -0.015716 -0.012844  0.020268  0.120087 -0.353465   \n",
       "3752  0.013360  0.011250 -0.005451 -0.009622 -0.007715 -0.011474  0.037883   \n",
       "\n",
       "        dfb_x8    dfb_x9   dfb_x10  ...   dfb_x14   dfb_x15   dfb_x16  \\\n",
       "0     0.007222 -0.011209 -0.050646  ... -0.032961  0.055691  0.008215   \n",
       "1    -0.002367 -0.000216  0.002976  ... -0.004739 -0.005118  0.000703   \n",
       "2    -0.000319 -0.001874 -0.001843  ... -0.012489 -0.000878  0.002488   \n",
       "3     0.001126 -0.003524 -0.003510  ... -0.013028  0.004577  0.000884   \n",
       "4    -0.000828 -0.001558 -0.001010  ... -0.008507  0.001620  0.001708   \n",
       "...        ...       ...       ...  ...       ...       ...       ...   \n",
       "3728  0.003038 -0.005521 -0.008778  ... -0.011761  0.011008 -0.001393   \n",
       "3729  0.003644 -0.004214 -0.019548  ... -0.008876  0.020532  0.005444   \n",
       "3730 -0.000776 -0.002534 -0.026932  ... -0.011287  0.022783  0.012324   \n",
       "3750  0.114426  0.058598  0.287615  ... -0.005030 -0.287604 -0.080567   \n",
       "3752  0.001495 -0.015873  0.006976  ...  0.039888  0.001477  0.000201   \n",
       "\n",
       "       dfb_x17   cooks_d  standard_resid  hat_diag  dffits_internal  \\\n",
       "0     0.038746  0.003739       -1.391849  0.031765        -0.252103   \n",
       "1    -0.006701  0.000096        1.009835  0.001592         0.040326   \n",
       "2    -0.003071  0.000071        1.337089  0.000670         0.034633   \n",
       "3    -0.001838  0.000052        1.229171  0.000587         0.029778   \n",
       "4    -0.001915  0.000043        1.247890  0.000471         0.027092   \n",
       "...        ...       ...             ...       ...              ...   \n",
       "3728  0.000835  0.000033        0.573966  0.001721         0.023834   \n",
       "3729  0.016409  0.000059        0.819793  0.001496         0.031732   \n",
       "3730  0.021413  0.000132        0.956399  0.002446         0.047354   \n",
       "3750 -0.030618  0.013928       -2.560789  0.034849        -0.486599   \n",
       "3752 -0.036230  0.000363       -0.373269  0.042409        -0.078553   \n",
       "\n",
       "      student_resid    dffits  \n",
       "0         -1.392058 -0.252141  \n",
       "1          1.009838  0.040326  \n",
       "2          1.337257  0.034637  \n",
       "3          1.229271  0.029780  \n",
       "4          1.248001  0.027094  \n",
       "...             ...       ...  \n",
       "3728       0.573905  0.023831  \n",
       "3729       0.819750  0.031731  \n",
       "3730       0.956386  0.047353  \n",
       "3750      -2.563070 -0.487033  \n",
       "3752      -0.373218 -0.078542  \n",
       "\n",
       "[3142 rows x 23 columns]"
      ]
     },
     "execution_count": 168,
     "metadata": {},
     "output_type": "execute_result"
    },
    {
     "data": {
      "image/png": "[encoded data removed]",
      "text/plain": [
       "<Figure size 1152x432 with 2 Axes>"
      ]
     },
     "metadata": {
      "needs_background": "light"
     },
     "output_type": "display_data"
    }
   ],
   "source": [
    "import statsmodels.api as sm\n",
    "import math\n",
    "\n",
    "lm2 = sm.OLS(y_ln,X_norm)\n",
    "results = lm2.fit()\n",
    "# # print(results.summary())\n",
    "resid = results.resid\n",
    "# print(resid.shape)\n",
    "# print(resid.min())\n",
    "# print(resid.idxmin())\n",
    "# argmin = np.argmin(resid, axis=1)\n",
    "# print(argmin)\n",
    "# print(np.min(resid))\n",
    "# print(resid[argmin])\n",
    "fig, (ax1, ax2) = plt.subplots(1,2, figsize = (16,6))\n",
    "\n",
    "ax1 = sm.graphics.influence_plot(results, ax=ax1, criterion=\"cooks\")\n",
    "\n",
    "influence = results.get_influence()\n",
    "\n",
    "influence.summary_frame()"
   ]
  },
  {
   "cell_type": "code",
   "execution_count": null,
   "metadata": {},
   "outputs": [],
   "source": []
  },
  {
   "cell_type": "code",
   "execution_count": 175,
   "metadata": {},
   "outputs": [],
   "source": [
    "\n",
    "#Train_test_split, post-normalizing\n",
    "X_train, X_test, y_train, y_test = train_test_split(X_norm, y_ln, test_size=0.2)"
   ]
  },
  {
   "cell_type": "code",
   "execution_count": 176,
   "metadata": {},
   "outputs": [
    {
     "name": "stdout",
     "output_type": "stream",
     "text": [
      "LinearRegression(copy_X=True, fit_intercept=True, n_jobs=None, normalize=False) \n",
      "r^2:  0.3497325580090819 \n",
      "\n"
     ]
    },
    {
     "data": {
      "image/png": "[encoded data removed]",
      "text/plain": [
       "<Figure size 432x288 with 1 Axes>"
      ]
     },
     "metadata": {
      "needs_background": "light"
     },
     "output_type": "display_data"
    }
   ],
   "source": [
    "# Function for trying out models\n",
    "def test_reg(reg,X_train, X_test, y_train, y_test, index, return_reg=False):\n",
    "    '''test_reg takes a regressor object and the 4 data sets, trains the regressor, makes predictions\n",
    "    on the test set, and prints an r^2 score.  Returns trained regressor if return_reg=True.'''\n",
    "    reg.fit(X_train,y_train)\n",
    "    preds = reg.predict(X_test)\n",
    "    print(reg,\"\\nr^2: \",r2_score(y_test,preds),\"\\n\")\n",
    "\n",
    "    model_name = ['Linear Regression', 'ElasticNetCV', 'Decision Tree Regressor',\n",
    "                 'Random Forest Regressor', 'Gradient Boosting Regressor'][index]\n",
    "    plt.figure(index)\n",
    "    residuals = y_test-preds\n",
    "    plt.title('Residuals: ' + model_name)\n",
    "    plt.ylabel('Residual')\n",
    "    plt.xlabel('Y test - ln(applicants in 2018)')\n",
    "    plt.scatter(preds, residuals)\n",
    "\n",
    "    if return_reg:\n",
    "        return reg\n",
    "\n",
    "# Instantiate the regressors\n",
    "LR_reg = linear_model.LinearRegression()\n",
    "EN_reg = linear_model.ElasticNetCV(cv=10)\n",
    "DT_reg = tree.DecisionTreeRegressor()\n",
    "RF_reg = ensemble.RandomForestRegressor(n_estimators=100)\n",
    "GB_reg = ensemble.GradientBoostingRegressor()\n",
    "#XGB_reg = xgb.XGBRegressor(objective='reg:squarederror')\n",
    "\n",
    "# Train and test all models with default settings\n",
    "for index, model  in enumerate([LR_reg]):\n",
    "    test_reg(model,X_train, X_test, y_train, y_test, index)"
   ]
  },
  {
   "cell_type": "code",
   "execution_count": 134,
   "metadata": {
    "scrolled": true
   },
   "outputs": [
    {
     "name": "stdout",
     "output_type": "stream",
     "text": [
      "Applied during year_x: 0.26\n",
      "current_population: 0.026\n",
      "Unemployment Rate: 0.0078\n",
      "GDP Per Capita: 0.52\n",
      "Life expectancy: 0.089\n",
      "GoldsteinScale: 0.0097\n",
      "NuMentions: 0.027\n",
      "AvgTone: 0.0079\n",
      "QuadClass: 0.03\n",
      "Goldstein_Neg_5: 0.003\n",
      "Goldstein_Pos_5: 0.0047\n",
      "Goldstein_Pos_7: 0.0039\n",
      "Goldstein_Pos_8: 0.0024\n",
      "Goldstein_Pos_9: 0.0023\n",
      "Event_Code_19_20: 0.004\n",
      "Extreme_Pos_Tone_Events: 0.0066\n",
      "Extreme_Neg_Tone_Events: 0.0011\n"
     ]
    }
   ],
   "source": [
    "# Random Forest provides feature_importance...not rock solid, but useful for some context\n",
    "RF_reg.fit(X_train,y_train)\n",
    "\n",
    "for name,imp in zip(X.columns,RF_reg.feature_importances_):\n",
    "    print(\"{}: {:2.2}\".format(name,imp))"
   ]
  },
  {
   "cell_type": "code",
   "execution_count": 135,
   "metadata": {},
   "outputs": [
    {
     "data": {
      "text/plain": [
       "'# Hyperparameter tuning for the RandomForest model\\n# NOTE: This still isn\\'t working very well.  I\\'m yet to get a model that beats the defaults.\\nfrom sklearn.model_selection import GridSearchCV\\n# Create the parameter grid based on the results of random search \\nparam_grid = {\\n    \\'bootstrap\\': [True],\\n    \\'max_depth\\': [80, 90, 100, 110],\\n    \\'max_features\\': [2, 3],\\n    \\'min_samples_leaf\\': [3, 4, 5],\\n    \\'min_samples_split\\': [8, 10, 12],\\n    \\'n_estimators\\': [100, 200, 300, 1000]\\n}\\n# Create a based model\\nrf = ensemble.RandomForestRegressor()\\n# Instantiate the grid search model\\ngrid_search = GridSearchCV(estimator = rf, param_grid = param_grid, \\n                          cv = 3, n_jobs = -1, verbose = 2)\\n\\n# Fit the grid search to the data\\ngrid_search.fit(X_train, y_train)\\n\\n# Make preds and calculate R^2\\nRF_optimized = best_grid = grid_search.best_estimator_\\npreds = best_grid.predict(X_test)\\nprint(best_grid,\"\\nr^2: \",r2_score(y_test,preds),\"\\n\")'"
      ]
     },
     "execution_count": 135,
     "metadata": {},
     "output_type": "execute_result"
    }
   ],
   "source": [
    "'''# Hyperparameter tuning for the RandomForest model\n",
    "# NOTE: This still isn't working very well.  I'm yet to get a model that beats the defaults.\n",
    "from sklearn.model_selection import GridSearchCV\n",
    "# Create the parameter grid based on the results of random search \n",
    "param_grid = {\n",
    "    'bootstrap': [True],\n",
    "    'max_depth': [80, 90, 100, 110],\n",
    "    'max_features': [2, 3],\n",
    "    'min_samples_leaf': [3, 4, 5],\n",
    "    'min_samples_split': [8, 10, 12],\n",
    "    'n_estimators': [100, 200, 300, 1000]\n",
    "}\n",
    "# Create a based model\n",
    "rf = ensemble.RandomForestRegressor()\n",
    "# Instantiate the grid search model\n",
    "grid_search = GridSearchCV(estimator = rf, param_grid = param_grid, \n",
    "                          cv = 3, n_jobs = -1, verbose = 2)\n",
    "\n",
    "# Fit the grid search to the data\n",
    "grid_search.fit(X_train, y_train)\n",
    "\n",
    "# Make preds and calculate R^2\n",
    "RF_optimized = best_grid = grid_search.best_estimator_\n",
    "preds = best_grid.predict(X_test)\n",
    "print(best_grid,\"\\nr^2: \",r2_score(y_test,preds),\"\\n\")'''"
   ]
  },
  {
   "cell_type": "markdown",
   "metadata": {},
   "source": [
    "## Test Data: 2018"
   ]
  },
  {
   "cell_type": "code",
   "execution_count": 136,
   "metadata": {},
   "outputs": [],
   "source": [
    "# Dependent Variable\n",
    "y_17 = data.loc[data.Year==2017,'applied_next_year']\n",
    "\n",
    "y_ln_17 = np.log(y_17+0.5)\n",
    "\n",
    "# Feature Matrix\n",
    "X_17 = data.loc[data.Year==2017,feature_list]\n",
    "\n",
    "transformer_17 = Normalizer().fit(X_17)\n",
    "X_norm_17 = transformer_17.transform(X_17)\n"
   ]
  },
  {
   "cell_type": "code",
   "execution_count": 137,
   "metadata": {},
   "outputs": [
    {
     "name": "stdout",
     "output_type": "stream",
     "text": [
      "RandomForestRegressor(bootstrap=True, criterion='mse', max_depth=None,\n",
      "                      max_features='auto', max_leaf_nodes=None,\n",
      "                      min_impurity_decrease=0.0, min_impurity_split=None,\n",
      "                      min_samples_leaf=1, min_samples_split=2,\n",
      "                      min_weight_fraction_leaf=0.0, n_estimators=100,\n",
      "                      n_jobs=None, oob_score=False, random_state=None,\n",
      "                      verbose=0, warm_start=False) \n",
      "r^2:  0.9347810461728001 \n",
      "\n"
     ]
    }
   ],
   "source": [
    "# Predict on 2017\n",
    "def pred_2017(reg,X_17, y_17):\n",
    "    '''Takes a trained model and the final test X and test y, in this case 2017 data.'''\n",
    "    preds = reg.predict(X_17)\n",
    "    print(reg,\"\\nr^2: \",r2_score(y_17,preds),\"\\n\")\n",
    "\n",
    "# Run with best performing model\n",
    "pred_2017(RF_reg,X_norm_17,y_ln_17)"
   ]
  },
  {
   "cell_type": "code",
   "execution_count": null,
   "metadata": {},
   "outputs": [],
   "source": []
  },
  {
   "cell_type": "code",
   "execution_count": null,
   "metadata": {},
   "outputs": [],
   "source": []
  }
 ],
 "metadata": {
  "kernelspec": {
   "display_name": "Python 3",
   "language": "python",
   "name": "python3"
  },
  "language_info": {
   "codemirror_mode": {
    "name": "ipython",
    "version": 3
   },
   "file_extension": ".py",
   "mimetype": "text/x-python",
   "name": "python",
   "nbconvert_exporter": "python",
   "pygments_lexer": "ipython3",
   "version": "3.7.4"
  }
 },
 "nbformat": 4,
 "nbformat_minor": 2
}
