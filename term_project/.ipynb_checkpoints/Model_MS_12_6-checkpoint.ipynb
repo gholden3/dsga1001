{
 "cells": [
  {
   "cell_type": "code",
   "execution_count": 34,
   "metadata": {},
   "outputs": [],
   "source": [
    "import numpy as np\n",
    "import pandas as pd\n",
    "import matplotlib.pyplot as plt"
   ]
  },
  {
   "cell_type": "code",
   "execution_count": 35,
   "metadata": {},
   "outputs": [],
   "source": [
    "# Read in data\n",
    "data = pd.read_csv(\"Asylum_seekers_per_country_per_year_w_next_year_12_3.csv\")\n",
    "\n",
    "# Create current_population feature\n",
    "curr_pop_list = []\n",
    "for index, row in data.iterrows():\n",
    "    curr_year = str(int(row.Year))\n",
    "    curr_pop = row[curr_year]\n",
    "    curr_pop_list.append(curr_pop)\n",
    "data['current_population']=curr_pop_list\n",
    "\n",
    "# [Not very useful] Create before_2015 feature\n",
    "#data['before_2015'] = (data['Year']<2015).astype(int)\n",
    "\n",
    "# Remove N/A's in Gdelt fields and current_population (these are mismatched countries, bad records anyways)\n",
    "print(data.shape)\n",
    "data = data.dropna(subset=['QuadClass','NuMentions'])\n",
    "print(data.shape)\n",
    "data = data.dropna(subset=['current_population'])\n",
    "print(data.shape)\n",
    "# Remove N/A's in economic data (hopefully we'll fill some of these)\n",
    "data = data.dropna(subset=['Unemployment Rate',\n",
    "                           'GDP Per Capita',\n",
    "                           'Life expectancy',])\n",
    "\n",
    "data.shape\n",
    "\n",
    "# S-curve of the current_population variable\n",
    "num_bins = 100\n",
    "counts, bin_edges = np.histogram (data.loc[data.current_population<1E8,'current_population'], bins=num_bins, normed=True)\n",
    "cdf = np.cumsum (counts)\n",
    "plt.plot (bin_edges[1:], cdf/cdf[-1])\n",
    "\n",
    "# Feature engineering\n",
    "\n",
    "# Log of  Economic Factors: GDP per capita, Unemployment, population\n",
    "data['log_gdp_per_capita'] = np.log(data['GDP Per Capita']+0.5)\n",
    "data['log_unemployment'] = np.log(data['Unemployment Rate']+0.1)\n",
    "data['log_current_population'] = np.log(data['current_population']+1)\n",
    "\n",
    "# Bucket population\n",
    "# Less than 4M\n",
    "data['small_pop'] = list(map(int,data['current_population']<4E6))\n",
    "# Less than 40M\n",
    "data['med_pop'] = list(map(int,(data['current_population']<2E7) & (data['current_population']>4E6)))\n",
    "# More than 20M\n",
    "data['large_pop'] = list(map(int,data['current_population']>2E7))\n",
    "\n",
    "# Goldstein Net Counts\n",
    "data['Goldstein_Net_5'] = data['Goldstein_Pos_5']-data['Goldstein_Neg_5']\n",
    "data['Goldstein_Net_6'] = data['Goldstein_Pos_6']-data['Goldstein_Neg_6']\n",
    "data['Goldstein_Net_7'] = data['Goldstein_Pos_7']-data['Goldstein_Neg_7']\n",
    "data['Goldstein_Net_8'] = data['Goldstein_Pos_8']-data['Goldstein_Neg_8']\n",
    "\n",
    "# Create y vector, 2000-2017\n",
    "years = np.arange(2014,2017)\n",
    "# Tried removing 2014 and 2015, but not very impactful\n",
    "#years = np.delete(years,[14,15],axis=0)\n",
    "\n",
    "y = data.loc[data.Year.isin(years),'applied_next_year']\n",
    "\n",
    "# Log of y, the +0.5 adjustment to avoid ln(0) = -inf\n",
    "y_ln = np.log(y+0.5)\n",
    "\n",
    "# Create X feature matrix, including only the columns that we want to predict on in feature_list\n",
    "feature_list = [\n",
    "    'Applied during year_x',\n",
    "    'med_pop',\n",
    "    'large_pop',\n",
    "    'GDP Per Capita',\n",
    "    'log_gdp_per_capita',\n",
    "    'log_unemployment',\n",
    "    'Life expectancy',\n",
    "    'NuMentions',\n",
    "    'AvgTone',\n",
    "   'Goldstein_Neg_5',\n",
    "    'Goldstein_Pos_5',\n",
    "    'Goldstein_Pos_7',\n",
    "    'Goldstein_Pos_8',\n",
    "    'Goldstein_Pos_9',\n",
    "    'Event_Code_19_20',\n",
    "    'Extreme_Pos_Tone_Events',\n",
    "    'Extreme_Neg_Tone_Events'\n",
    "    ]\n",
    "X = data.loc[data.Year.isin(years),feature_list]\n",
    "\n",
    "# Check for columns with N/A's and count the N/A's\n",
    "for col in X:\n",
    "    if X[col].isna().any():\n",
    "        print(col,X[col].value_counts(dropna=False))\n",
    "\n",
    "# import statsmodels.api as sm\n",
    "\n",
    "# lm2 = sm.OLS(y_train,X_train)\n",
    "# results = lm2.fit()\n",
    "# print(results.summary())\n",
    "\n",
    "# fig, (ax1, ax2) = plt.subplots(1,2, figsize = (16,6))\n",
    "\n",
    "# ax1 = sm.graphics.influence_plot(results, ax=ax1, criterion=\"cooks\")\n",
    "\n",
    "# influence = results.get_influence()\n",
    "\n",
    "# influence.summary_frame()\n",
    "\n",
    "# Modeling!\n",
    "from sklearn.preprocessing import Normalizer\n",
    "from sklearn.model_selection import cross_val_score,train_test_split\n",
    "from sklearn.metrics import r2_score\n",
    "\n",
    "from sklearn import linear_model\n",
    "from sklearn import tree\n",
    "from sklearn import ensemble\n",
    "#import xgboost as xgb\n",
    "\n",
    "# Normalize X and y\n",
    "# Note: I'm normalizing (setting mean to 0) not standardizing (setting variance to 1)\n",
    "transformer = Normalizer().fit(X)\n",
    "X_norm = transformer.transform(X)\n",
    "\n",
    "#Train_test_split, post-normalizing\n",
    "X_train, X_test, y_train, y_test = train_test_split(X_norm, y_ln, test_size=0.2)\n",
    "\n",
    "from statsmodels.stats.outliers_influence import variance_inflation_factor\n",
    "from statsmodels.tools.tools import add_constant\n",
    "\n",
    "X_vif = add_constant(X_norm)\n",
    "print(pd.Series([variance_inflation_factor(X_vif, i) \n",
    "               for i in range(X_vif.shape[1])]))\n",
    "print(X_vif[0:2,:])\n",
    "\n",
    "# Tuning ElasticNet\n",
    "import itertools\n",
    "\n",
    "# Function for trying out models\n",
    "def test_reg_tuning(reg,X_train, X_test, y_train, y_test,l1,alpha,return_reg=False):\n",
    "    '''test_reg takes a regressor object and the 4 data sets, trains the regressor, makes predictions\n",
    "    on the test set, and prints an r^2 score.  Returns trained regressor if return_reg=True.'''\n",
    "    reg.fit(X_train,y_train)\n",
    "    preds = reg.predict(X_test)\n",
    "    print(l1,alpha,\"r^2: \",r2_score(y_test,preds),\"\\n\")\n",
    "    if return_reg:\n",
    "        return reg\n",
    "\n",
    "# Tuning EN_reg\n",
    "l_1 = [0.1,0.25,0.5,0.75,0.9]\n",
    "alpha = [0.05,0.1]\n",
    "for a in alpha:\n",
    "    for l in l_1:    \n",
    "        EN_reg = linear_model.ElasticNet(alpha=a,l1_ratio=l)\n",
    "        test_reg_tuning(EN_reg,X_train, X_test, y_train, y_test,l,a)\n",
    "\n",
    "# # Tuning GBM\n",
    "# import itertools\n",
    "\n",
    "# # Function for trying out models\n",
    "# def test_reg_tuning(reg,X_train, X_test, y_train, y_test,max_depth,return_reg=False):\n",
    "#     '''test_reg takes a regressor object and the 4 data sets, trains the regressor, makes predictions\n",
    "#     on the test set, and prints an r^2 score.  Returns trained regressor if return_reg=True.'''\n",
    "#     reg.fit(X_train,y_train)\n",
    "#     preds = reg.predict(X_test)\n",
    "#     print(\"Learning Rate: \",lr,\"N_Estim: \",ne,\"r^2: \",r2_score(y_test,preds),\"\\n\")\n",
    "#     if return_reg:\n",
    "#         return reg\n",
    "\n",
    "# # Tuning GB_reg\n",
    "# #max_depth = [1,2,3,4,5,8,10]\n",
    "# learning_rate = [0.15,0.1,0.05,0.01,0.005,0.001]\n",
    "# n_estimators = [100,250,500,750,1000,1250,1500,1750]\n",
    "\n",
    "# for lr in learning_rate:\n",
    "#     for ne in n_estimators:\n",
    "#         GB_reg = ensemble.GradientBoostingRegressor(learning_rate=lr,n_estimators=ne,max_depth=4)\n",
    "#         test_reg_tuning(GB_reg,X_train, X_test, y_train, y_test,lr,ne)\n",
    "\n",
    "# Function for trying out models\n",
    "def test_reg(reg,X_train, X_test, y_train, y_test,return_reg=False):\n",
    "    '''test_reg takes a regressor object and the 4 data sets, trains the regressor, makes predictions\n",
    "    on the test set, and prints an r^2 score.  Returns trained regressor if return_reg=True.'''\n",
    "    reg.fit(X_train,y_train)\n",
    "    preds = reg.predict(X_test)\n",
    "    print(reg,\"\\nr^2: \",r2_score(y_test,preds),\"\\n\")\n",
    "    if return_reg:\n",
    "        return reg\n",
    "\n",
    "# Instantiate the regressors\n",
    "LR_reg = linear_model.LinearRegression()\n",
    "EN_reg = linear_model.ElasticNet(l1_ratio=0.25,alpha=0.05)\n",
    "DT_reg = tree.DecisionTreeRegressor()\n",
    "RF_reg = ensemble.RandomForestRegressor(n_estimators=100)\n",
    "GB_reg = ensemble.GradientBoostingRegressor(learning_rate=0.01,n_estimators=1000,max_depth=4)\n",
    "#XGB_reg = xgb.XGBRegressor(objective='reg:squarederror')\n",
    "\n",
    "# Train and test all models with default settings\n",
    "for model in [LR_reg,EN_reg,DT_reg,RF_reg,GB_reg]:\n",
    "    test_reg(model,X_train, X_test, y_train, y_test) \n",
    "\n",
    "# Random Forest provides feature_importance...not rock solid, but useful for some context\n",
    "RF_reg.fit(X_train,y_train)\n",
    "\n",
    "for name,imp in zip(X.columns,RF_reg.feature_importances_):\n",
    "    print(\"{}: {:2.2}\".format(name,imp))\n",
    "\n",
    "'''# Hyperparameter tuning for the RandomForest model\n",
    "# NOTE: This still isn't working very well.  I'm yet to get a model that beats the defaults.\n",
    "from sklearn.model_selection import GridSearchCV\n",
    "# Create the parameter grid based on the results of random search \n",
    "param_grid = {\n",
    "    'bootstrap': [True],\n",
    "    'max_depth': [80, 90, 100, 110],\n",
    "    'max_features': [2, 3],\n",
    "    'min_samples_leaf': [3, 4, 5],\n",
    "    'min_samples_split': [8, 10, 12],\n",
    "    'n_estimators': [100, 200, 300, 1000]\n",
    "}\n",
    "# Create a based model\n",
    "rf = ensemble.RandomForestRegressor()\n",
    "# Instantiate the grid search model\n",
    "grid_search = GridSearchCV(estimator = rf, param_grid = param_grid, \n",
    "                          cv = 3, n_jobs = -1, verbose = 2)\n",
    "\n",
    "# Fit the grid search to the data\n",
    "grid_search.fit(X_train, y_train)\n",
    "\n",
    "# Make preds and calculate R^2\n",
    "RF_optimized = best_grid = grid_search.best_estimator_\n",
    "preds = best_grid.predict(X_test)\n",
    "print(best_grid,\"\\nr^2: \",r2_score(y_test,preds),\"\\n\")'''"
   ]
  },
  {
   "cell_type": "markdown",
   "metadata": {},
   "source": [
    "## Test Data: 2018"
   ]
  },
  {
   "cell_type": "code",
   "execution_count": 120,
   "metadata": {},
   "outputs": [],
   "source": [
    "# Dependent Variable\n",
    "y_17 = data.loc[data.Year==2017,'applied_next_year']\n",
    "\n",
    "y_ln_17 = np.log(y_17+0.5)\n",
    "\n",
    "# Feature Matrix\n",
    "X_17 = data.loc[data.Year==2017,feature_list]\n",
    "\n",
    "transformer_17 = Normalizer().fit(X_17)\n",
    "X_norm_17 = transformer_17.transform(X_17)\n"
   ]
  },
  {
   "cell_type": "code",
   "execution_count": 121,
   "metadata": {},
   "outputs": [
    {
     "name": "stdout",
     "output_type": "stream",
     "text": [
      "RandomForestRegressor(bootstrap=True, criterion='mse', max_depth=None,\n",
      "                      max_features='auto', max_leaf_nodes=None,\n",
      "                      min_impurity_decrease=0.0, min_impurity_split=None,\n",
      "                      min_samples_leaf=1, min_samples_split=2,\n",
      "                      min_weight_fraction_leaf=0.0, n_estimators=100,\n",
      "                      n_jobs=None, oob_score=False, random_state=None,\n",
      "                      verbose=0, warm_start=False) \n",
      "r^2:  0.9363554333799975 \n",
      "\n"
     ]
    }
   ],
   "source": [
    "# Predict on 2017\n",
    "def pred_2017(reg,X_17, y_17):\n",
    "    '''Takes a trained model and the final test X and test y, in this case 2017 data.'''\n",
    "    preds = reg.predict(X_17)\n",
    "    print(reg,\"\\nr^2: \",r2_score(y_17,preds),\"\\n\")\n",
    "\n",
    "# Run with best performing model\n",
    "pred_2017(RF_reg,X_norm_17,y_ln_17)"
   ]
  },
  {
   "cell_type": "markdown",
   "metadata": {},
   "source": [
    "### Baseline"
   ]
  },
  {
   "cell_type": "code",
   "execution_count": 17,
   "metadata": {},
   "outputs": [
    {
     "name": "stdout",
     "output_type": "stream",
     "text": [
      "LinearRegression(copy_X=True, fit_intercept=True, n_jobs=None, normalize=False) \n",
      "r^2:  0.3617749927377072 \n",
      "\n",
      "ElasticNet(alpha=0.05, copy_X=True, fit_intercept=True, l1_ratio=0.25,\n",
      "           max_iter=1000, normalize=False, positive=False, precompute=False,\n",
      "           random_state=None, selection='cyclic', tol=0.0001, warm_start=False) \n",
      "r^2:  0.3098504061481734 \n",
      "\n",
      "DecisionTreeRegressor(criterion='mse', max_depth=None, max_features=None,\n",
      "                      max_leaf_nodes=None, min_impurity_decrease=0.0,\n",
      "                      min_impurity_split=None, min_samples_leaf=1,\n",
      "                      min_samples_split=2, min_weight_fraction_leaf=0.0,\n",
      "                      presort=False, random_state=None, splitter='best') \n",
      "r^2:  0.5983949470138852 \n",
      "\n",
      "RandomForestRegressor(bootstrap=True, criterion='mse', max_depth=None,\n",
      "                      max_features='auto', max_leaf_nodes=None,\n",
      "                      min_impurity_decrease=0.0, min_impurity_split=None,\n",
      "                      min_samples_leaf=1, min_samples_split=2,\n",
      "                      min_weight_fraction_leaf=0.0, n_estimators=100,\n",
      "                      n_jobs=None, oob_score=False, random_state=None,\n",
      "                      verbose=0, warm_start=False) \n",
      "r^2:  0.7129897267029996 \n",
      "\n",
      "GradientBoostingRegressor(alpha=0.9, criterion='friedman_mse', init=None,\n",
      "                          learning_rate=0.1, loss='ls', max_depth=3,\n",
      "                          max_features=None, max_leaf_nodes=None,\n",
      "                          min_impurity_decrease=0.0, min_impurity_split=None,\n",
      "                          min_samples_leaf=1, min_samples_split=2,\n",
      "                          min_weight_fraction_leaf=0.0, n_estimators=100,\n",
      "                          n_iter_no_change=None, presort='auto',\n",
      "                          random_state=None, subsample=1.0, tol=0.0001,\n",
      "                          validation_fraction=0.1, verbose=0, warm_start=False) \n",
      "r^2:  0.7931018472163521 \n",
      "\n"
     ]
    }
   ],
   "source": [
    "# Baseline for 2017\n",
    "X_baseline = X_norm[:,:1]\n",
    "X_baseline_17 = X_norm_17[:,:1]\n",
    "\n",
    "# Instantiate the regressors\n",
    "LR_reg_baseline = linear_model.LinearRegression()\n",
    "EN_reg_baseline = linear_model.ElasticNet(l1_ratio=0.25,alpha=0.05)\n",
    "DT_reg_baseline = tree.DecisionTreeRegressor()\n",
    "RF_reg_baseline = ensemble.RandomForestRegressor(n_estimators=100)\n",
    "GB_reg_baseline = ensemble.GradientBoostingRegressor()\n",
    "\n",
    "# Train and test all models with default settings\n",
    "for model in [LR_reg_baseline,EN_reg_baseline,DT_reg_baseline,RF_reg_baseline,GB_reg_baseline]:\n",
    "    test_reg(model,X_baseline, X_baseline_17, y_ln, y_ln_17) "
   ]
  },
  {
   "cell_type": "code",
   "execution_count": 18,
   "metadata": {},
   "outputs": [
    {
     "name": "stdout",
     "output_type": "stream",
     "text": [
      "(577, 1)\n",
      "(183, 1)\n",
      "(577,)\n",
      "(183,)\n"
     ]
    }
   ],
   "source": [
    "print(X_baseline.shape)\n",
    "print(X_baseline_17.shape)\n",
    "print(y_ln.shape)\n",
    "print(y_ln_17.shape)"
   ]
  },
  {
   "cell_type": "code",
   "execution_count": null,
   "metadata": {},
   "outputs": [],
   "source": []
  },
  {
   "cell_type": "code",
   "execution_count": 19,
   "metadata": {},
   "outputs": [
    {
     "name": "stderr",
     "output_type": "stream",
     "text": [
      "//anaconda3/lib/python3.7/site-packages/numpy/lib/histograms.py:824: RuntimeWarning: invalid value encountered in greater_equal\n",
      "  keep = (tmp_a >= first_edge)\n",
      "//anaconda3/lib/python3.7/site-packages/numpy/lib/histograms.py:825: RuntimeWarning: invalid value encountered in less_equal\n",
      "  keep &= (tmp_a <= last_edge)\n"
     ]
    },
    {
     "data": {
      "text/plain": [
       "Text(0.5, 0.98, 'Skew correction charts for Population, Unemployment, and GDP')"
      ]
     },
     "execution_count": 19,
     "metadata": {},
     "output_type": "execute_result"
    },
    {
     "data": {
      "image/png": "[encoded data removed]",
      "text/plain": [
       "<Figure size 1296x864 with 6 Axes>"
      ]
     },
     "metadata": {
      "needs_background": "light"
     },
     "output_type": "display_data"
    }
   ],
   "source": [
    "# Skew correction charts for Population, Unemployment, and GDP\n",
    "\n",
    "fig, axs = plt.subplots(2, 3, figsize=(18, 12), sharey=False)\n",
    "axs[0,0].hist(data['current_population'])\n",
    "axs[0,1].hist(data['Unemployment (Clean)'])\n",
    "axs[0,2].hist(data['GDP Per Capita (Clean)'])\n",
    "axs[1,0].hist(data['log_current_population'])\n",
    "axs[1,1].hist(data['log_unemployment'])\n",
    "axs[1,2].hist(data['log_gdp_per_capita'])\n",
    "axs[0,0].set_title(\"Current Population\")\n",
    "axs[0,1].set_title(\"Unemployment\")\n",
    "axs[0,2].set_title(\"GDP\")\n",
    "axs[0,0].set_ylabel(\"Raw\")\n",
    "axs[1,0].set_ylabel(\"Ln()\")\n",
    "fig.suptitle(\"Skew correction charts for Population, Unemployment, and GDP\")"
   ]
  },
  {
   "cell_type": "code",
   "execution_count": 20,
   "metadata": {},
   "outputs": [
    {
     "data": {
      "text/plain": [
       "Text(0, 0.5, 'Histogram Number of country-years')"
      ]
     },
     "execution_count": 20,
     "metadata": {},
     "output_type": "execute_result"
    },
    {
     "data": {
      "image/png": "[encoded data removed]",
      "text/plain": [
       "<Figure size 1296x864 with 2 Axes>"
      ]
     },
     "metadata": {
      "needs_background": "light"
     },
     "output_type": "display_data"
    }
   ],
   "source": [
    "fig, axs = plt.subplots(2, 1, figsize=(18, 12), sharey=False)\n",
    "\n",
    "# Plot the histogram of applicant counts per country-year\n",
    "bin_arr = np.arange(0,10000,100)\n",
    "bin_arr_ln = np.arange(0,y_ln.max(),y_ln.max()/100)\n",
    "\n",
    "axs[0].hist(y,bins=bin_arr)\n",
    "axs[0].set_xlabel(\"Number of Applicants per country-year\")\n",
    "axs[0].set_ylabel(\"Histogram Number of country-years\")\n",
    "\n",
    "axs[1].hist(y_ln,bins=bin_arr_ln)\n",
    "axs[1].set_xlabel(\"Ln(Number of Applicants per country-year)\")\n",
    "axs[1].set_ylabel(\"Histogram Number of country-years\")"
   ]
  },
  {
   "cell_type": "code",
   "execution_count": 21,
   "metadata": {},
   "outputs": [
    {
     "data": {
      "text/plain": [
       "<matplotlib.collections.PathCollection at 0x1a215508d0>"
      ]
     },
     "execution_count": 21,
     "metadata": {},
     "output_type": "execute_result"
    },
    {
     "data": {
      "image/png": "[encoded data removed]",
      "text/plain": [
       "<Figure size 432x288 with 1 Axes>"
      ]
     },
     "metadata": {
      "needs_background": "light"
     },
     "output_type": "display_data"
    }
   ],
   "source": [
    "# Applicants - population scatter\n",
    "plt.scatter(data['current_population'],data['Applied during year_x'])"
   ]
  },
  {
   "cell_type": "code",
   "execution_count": 22,
   "metadata": {},
   "outputs": [
    {
     "data": {
      "text/plain": [
       "Index(['Applied during year_x', 'log_current_population', 'small_pop',\n",
       "       'med_pop', 'large_pop', 'GDP Per Capita', 'log_gdp_per_capita',\n",
       "       'log_unemployment', 'Life expectancy', 'GoldsteinScale', 'NuMentions',\n",
       "       'AvgTone', 'QuadClass', 'Goldstein_Net_5', 'Goldstein_Net_6',\n",
       "       'Goldstein_Net_7', 'Goldstein_Net_8', 'Goldstein_Neg_5',\n",
       "       'Goldstein_Neg_6', 'Goldstein_Neg_7', 'Goldstein_Neg_8',\n",
       "       'Goldstein_Neg_9', 'Goldstein_Pos_5', 'Goldstein_Pos_6',\n",
       "       'Goldstein_Pos_7', 'Goldstein_Pos_8', 'Goldstein_Pos_9',\n",
       "       'Quad_4_Goldstein_Neg_5', 'Quad_4_Goldstein_Neg_6',\n",
       "       'Quad_4_Goldstein_Neg_7', 'Quad_4_Goldstein_Neg_8',\n",
       "       'Quad_4_Goldstein_Neg_9', 'Event_Code_19_20', 'Extreme_Pos_Tone_Events',\n",
       "       'Extreme_Neg_Tone_Events'],\n",
       "      dtype='object')"
      ]
     },
     "execution_count": 22,
     "metadata": {},
     "output_type": "execute_result"
    }
   ],
   "source": [
    "X_17.columns"
   ]
  },
  {
   "cell_type": "code",
   "execution_count": null,
   "metadata": {},
   "outputs": [],
   "source": []
  },
  {
   "cell_type": "code",
   "execution_count": null,
   "metadata": {},
   "outputs": [],
   "source": []
  }
 ],
 "metadata": {
  "kernelspec": {
   "display_name": "Python 3",
   "language": "python",
   "name": "python3"
  },
  "language_info": {
   "codemirror_mode": {
    "name": "ipython",
    "version": 3
   },
   "file_extension": ".py",
   "mimetype": "text/x-python",
   "name": "python",
   "nbconvert_exporter": "python",
   "pygments_lexer": "ipython3",
   "version": "3.7.4"
  }
 },
 "nbformat": 4,
 "nbformat_minor": 2
}
