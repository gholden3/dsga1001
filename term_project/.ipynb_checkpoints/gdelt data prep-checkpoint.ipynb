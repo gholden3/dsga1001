{
 "cells": [
  {
   "cell_type": "code",
   "execution_count": null,
   "metadata": {},
   "outputs": [],
   "source": [
    "import pandas as pd\n",
    "import numpy as np\n",
    "import glob\n",
    "import os\n",
    "import pandas_profiling\n",
    "\n",
    "path = r'/Users/gmholden/workspace/dsga1001/term_project' \n",
    "all_files = glob.glob(os.path.join(path, \"events*.csv\"))\n",
    "print(enumerate(all_files))\n",
    "li = []\n",
    "for index, filename in enumerate(all_files):\n",
    "    df = pd.read_csv(filename, index_col=None, header=0)\n",
    "    title = \"report \" + str(index)\n",
    "    print(\"profiling: \")\n",
    "    print(index)\n",
    "    profile = df.profile_report(title=title )\n",
    "    file = title + \".html\"\n",
    "    profile.to_file(output_file=file)\n",
    "    li.append(df)\n",
    "\n",
    "gdelt_df = pd.concat(li, axis=0, ignore_index=True)\n",
    "\n",
    "\n",
    "gdelt_df2 = gdelt_df.groupby(['Actor2Geo_CountryCode', 'Year'])[['GoldsteinScale', \"AvgTone\", \"QuadClass\", \"NumMentions\" ]].mean().reset_index()\n",
    "\n",
    "gdelt_df_sums = gdelt_df.groupby(['Actor2Geo_CountryCode', 'Year']).count()"
   ]
  },
  {
   "cell_type": "code",
   "execution_count": 10,
   "metadata": {},
   "outputs": [],
   "source": [
    "df = pd.read_csv('/Users/gmholden/workspace/dsga1001/term_project/events2005.csv')\n",
    "profile = df.profile_report(title=\"profile 2005\" )\n",
    "file = \"/Users/gmholden/workspace/dsga1001/term_project/profile2005.html\"\n",
    "profile.to_file(output_file=file)"
   ]
  },
  {
   "cell_type": "code",
   "execution_count": null,
   "metadata": {},
   "outputs": [],
   "source": [
    "gdelt_df2 = gdelt_df.groupby(['Actor2Geo_CountryCode', 'Year'])[['GoldsteinScale', \"AvgTone\", \"QuadClass\", \"NumMentions\" ]].mean().reset_index()\n",
    "\n",
    "gdelt_df_sums = gdelt_df.groupby(['Actor2Geo_CountryCode', 'Year']).count()\n",
    "\n",
    "export_csv = gdelt_df.to_csv (r'/Users/gmholden/workspace/dsga1001/term_project/gdelt_dataframe.csv', index = None, header=True)"
   ]
  }
 ],
 "metadata": {
  "kernelspec": {
   "display_name": "Python 3",
   "language": "python",
   "name": "python3"
  },
  "language_info": {
   "codemirror_mode": {
    "name": "ipython",
    "version": 3
   },
   "file_extension": ".py",
   "mimetype": "text/x-python",
   "name": "python",
   "nbconvert_exporter": "python",
   "pygments_lexer": "ipython3",
   "version": "3.7.4"
  }
 },
 "nbformat": 4,
 "nbformat_minor": 2
}
