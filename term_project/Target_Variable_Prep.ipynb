{
 "cells": [
  {
   "cell_type": "code",
   "execution_count": 1,
   "metadata": {},
   "outputs": [],
   "source": [
    "import numpy as np\n",
    "import pandas as pd"
   ]
  },
  {
   "cell_type": "code",
   "execution_count": 2,
   "metadata": {},
   "outputs": [
    {
     "name": "stderr",
     "output_type": "stream",
     "text": [
      "//anaconda3/lib/python3.7/site-packages/IPython/core/interactiveshell.py:3057: DtypeWarning: Columns (4,5,6,7,8,9,10,11,12,13) have mixed types. Specify dtype option on import or set low_memory=False.\n",
      "  interactivity=interactivity, compiler=compiler, result=result)\n"
     ]
    }
   ],
   "source": [
    "# Assumes the raw file is in the same directory as the notebook\n",
    "data = pd.read_csv(\"unhcr_popstats_export_asylum_seekers_all_data.csv\",skiprows=3)"
   ]
  },
  {
   "cell_type": "code",
   "execution_count": 3,
   "metadata": {},
   "outputs": [
    {
     "data": {
      "text/plain": [
       "Index(['Year', 'Country / territory of asylum/residence', 'Origin',\n",
       "       'RSD procedure type / level', 'Tota pending start-year',\n",
       "       'of which UNHCR-assisted', 'Applied during year',\n",
       "       'statistics.filter.decisions_recognized',\n",
       "       'statistics.filter.decisions_other', 'Rejected', 'Otherwise closed',\n",
       "       'Total decisions', 'Total pending end-year',\n",
       "       'of which UNHCR-assisted.1'],\n",
       "      dtype='object')"
      ]
     },
     "execution_count": 3,
     "metadata": {},
     "output_type": "execute_result"
    }
   ],
   "source": [
    "data.columns"
   ]
  },
  {
   "cell_type": "code",
   "execution_count": 4,
   "metadata": {},
   "outputs": [
    {
     "name": "stdout",
     "output_type": "stream",
     "text": [
      "Earliest year of data: 2000\n"
     ]
    }
   ],
   "source": [
    "# No data before 2000\n",
    "print(\"Earliest year of data: {}\".format(data['Year'].min()))"
   ]
  },
  {
   "cell_type": "code",
   "execution_count": 5,
   "metadata": {},
   "outputs": [
    {
     "name": "stdout",
     "output_type": "stream",
     "text": [
      "Number of missing values in 'Applied during year': 11875\n",
      "Fraction of missing values in 'Applied during year': 0.07870493107104984\n"
     ]
    },
    {
     "name": "stderr",
     "output_type": "stream",
     "text": [
      "//anaconda3/lib/python3.7/site-packages/pandas/core/indexing.py:190: SettingWithCopyWarning: \n",
      "A value is trying to be set on a copy of a slice from a DataFrame\n",
      "\n",
      "See the caveats in the documentation: http://pandas.pydata.org/pandas-docs/stable/indexing.html#indexing-view-versus-copy\n",
      "  self._setitem_with_indexer(indexer, value)\n"
     ]
    }
   ],
   "source": [
    "# Annoyingly, the data uses both NaN and * for missing values.  This convert * to NaN which are then dropped.\n",
    "data['Applied during year'].loc[data['Applied during year']=='*']=np.NaN\n",
    "\n",
    "# Number of missing values in \"Applied during year\"\n",
    "num_missing_values = sum(data['Applied during year'].isna())\n",
    "print(\"Number of missing values in 'Applied during year': {}\".format(num_missing_values))\n",
    "print(\"Fraction of missing values in 'Applied during year': {}\".format(num_missing_values/data.shape[0]))"
   ]
  },
  {
   "cell_type": "code",
   "execution_count": 6,
   "metadata": {},
   "outputs": [],
   "source": [
    "# For now, just remove the missing value rows\n",
    "filtered_data = data.dropna(subset=['Applied during year'])\n",
    "filtered_data = filtered_data.astype({'Applied during year': 'int32'})"
   ]
  },
  {
   "cell_type": "code",
   "execution_count": 7,
   "metadata": {},
   "outputs": [],
   "source": [
    "# Group the data by year and origin, sum the values of 'Applied during year'\n",
    "grouped_data = filtered_data.groupby(['Year','Origin'])['Applied during year'].sum()"
   ]
  },
  {
   "cell_type": "code",
   "execution_count": 8,
   "metadata": {},
   "outputs": [
    {
     "name": "stdout",
     "output_type": "stream",
     "text": [
      "Grouped sum: 22615322\n",
      "Raw sum: 22615322\n"
     ]
    }
   ],
   "source": [
    "# Check that totals line up\n",
    "print(\"Grouped sum: {}\".format(grouped_data.sum()))\n",
    "print(\"Raw sum: {}\".format(filtered_data['Applied during year'].sum()))"
   ]
  },
  {
   "cell_type": "code",
   "execution_count": 10,
   "metadata": {},
   "outputs": [],
   "source": [
    "# Convert to a DataFrame so we can add columns\n",
    "output_df = pd.DataFrame(grouped_data)\n",
    "output_df['year_origin'] = output_df.index"
   ]
  },
  {
   "cell_type": "code",
   "execution_count": 12,
   "metadata": {},
   "outputs": [],
   "source": [
    "# Create csv\n",
    "output_df.to_csv(\"Asylum_seekers_per_country_per_year.csv\")"
   ]
  }
 ],
 "metadata": {
  "kernelspec": {
   "display_name": "Python 3",
   "language": "python",
   "name": "python3"
  },
  "language_info": {
   "codemirror_mode": {
    "name": "ipython",
    "version": 3
   },
   "file_extension": ".py",
   "mimetype": "text/x-python",
   "name": "python",
   "nbconvert_exporter": "python",
   "pygments_lexer": "ipython3",
   "version": "3.7.4"
  }
 },
 "nbformat": 4,
 "nbformat_minor": 2
}
