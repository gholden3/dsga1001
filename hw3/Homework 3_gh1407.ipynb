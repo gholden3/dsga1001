{
 "cells": [
  {
   "cell_type": "markdown",
   "metadata": {},
   "source": [
    "# Introduction to Data Science\n",
    "## Homework 3"
   ]
  },
  {
   "cell_type": "markdown",
   "metadata": {},
   "source": [
    "Student Name: Gina Holden\n",
    "\n",
    "Student Netid: gh1407\n",
    "***"
   ]
  },
  {
   "cell_type": "markdown",
   "metadata": {},
   "source": [
    "### Part 1 (5 Points)\n",
    "Assume that $X$ and $Y$ are discrete random variables. The formulas for Mutual Information, Entropy and Conditional Entropy are given by:\n",
    "\n",
    "$$\\text{Mutual Information} = \\sum_{y \\in Y} \\sum_{x \\in X} p(x, y) \\cdot log\\frac{p(x, y)}{p(x)p(y)}$$\n",
    "\n",
    "$$\\text{Entropy} = H(Y) = -\\sum_{y \\in Y} p(y) \\cdot log(p(y))$$\n",
    "\n",
    "$$\\text{Conditional Entropy} = H(Y \\mid X) = \\sum_{x \\in X} p(x) \\cdot H(Y \\mid X = x)$$\n",
    "\n",
    "Show mathematically that $\\text{Mutual Information} = \\text{Information Gain}$, where $\\text{Information Gain} = H(Y) – H(Y \\mid X)$. Give the derivation below (note, this can be done using Latek math notation, which renders nicely. See above. Feel free to do it by hand and submit an image of your proof)."
   ]
  },
  {
   "cell_type": "markdown",
   "metadata": {},
   "source": [
    "$$\\text{MI} =  \\sum_{y \\in Y} \\sum_{x \\in X} p(x, y) \\cdot log\\frac{p(x, y)}{p(x)p(y)}$$\n",
    "$$\\text{by division of logs} = \\sum_{y \\in Y} \\sum_{x \\in X}p(x, y)(log\\frac{p(x, y)}{p(x)} - log p(y)) $$\n",
    "$$\\text{by multiplication} =  \\sum_{y \\in Y} \\sum_{x \\in X}p(x, y)log\\frac{p(x, y)}{p(x)} -  \\sum_{y \\in Y} \\sum_{x \\in X} p(x, y)  log (p(y))  $$\n",
    "\n",
    "$$\\text{by }p(x, y) = p(x)p(Y \\mid X) \\text{   } $$\n",
    "$$=   \\sum_{y \\in Y} \\sum_{x \\in X} p(x)p(Y \\mid X)log\\frac{p(x)p(Y \\mid X)}{p(x)} - \\sum_{y \\in Y} \\sum_{x \\in X}p(x, y)log(p(y)) $$\n",
    "\n",
    "$$\\text{cancel out p(x) terms } =   \\sum_{y \\in Y} \\sum_{x \\in X} p(x)p(Y \\mid X)logp(Y \\mid X) - \\sum_{y \\in Y} \\sum_{x \\in X}p(x, y)log(p(y)) $$\n",
    "\n",
    "$$\\text{seperate summations }  =     \\sum_{x \\in X} p(x)\\sum_{y \\in Y}p(Y \\mid X)logp(Y \\mid X) - \\sum_{y \\in Y} \\sum_{x \\in X}p(x, y)log(p(y))$$\n",
    "\n",
    "$$\\text{since (} \\sum_{x \\in X}p(x, y)=p(y)\\text{)  } $$\n",
    "$$=  \\sum_{x \\in X} p(x)\\sum_{y \\in Y}p(Y \\mid X)logp(Y \\mid X) -  \\sum_{y \\in Y} p( y)log(p(y)) $$\n",
    "\n",
    "$$\\text{by (}H(y)=-\\sum_{y \\in Y}p(y)log(p(y))\\text{)  } $$ \n",
    "$$=  -\\sum_{x \\in X}p(x) H(Y \\mid X) -  \\sum_{y \\in Y} p( y)log(p(y)) $$\n",
    "\n",
    "$$\\text{again by (}H(y)=-\\sum_{y \\in Y}p(y)log(p(y))\\text{)   } $$\n",
    "$$=  -\\sum_{x \\in X}p(x)H(Y \\mid X = x) +  H(y) $$\n",
    "\n",
    "$$\\text{by } H(Y \\mid X) = \\sum_{x \\in X} p(x) \\cdot H(Y \\mid X = x) $$\n",
    "$$= - H(Y \\mid X)+  H(y) $$\n",
    "$$=   H(y) - H(Y \\mid X) $$"
   ]
  },
  {
   "cell_type": "markdown",
   "metadata": {},
   "source": [
    "### Part 2 - Preparing a Training Set and Training a Decision Tree (10 Points)\n",
    "This is a hands-on task where we build a predictive model using Decision Trees discussed in class. For this part, we will be using the data in `cell2cell_data.csv`.\n",
    "\n",
    "These historical data consist of 39,859 customers: 19,901 customers that churned (i.e., left the company) and 19,958 that did not churn (see the `\"churndep\"` variable). Here are the data set's 11 possible predictor variables for churning behavior: \n",
    "\n",
    "```\n",
    "Pos.  Var. Name  Var. Description\n",
    "----- ---------- --------------------------------------------------------------\n",
    "1     revenue    Mean monthly revenue in dollars\n",
    "2     outcalls   Mean number of outbound voice calls\n",
    "3     incalls    Mean number of inbound voice calls\n",
    "4     months     Months in Service\n",
    "5     eqpdays    Number of days the customer has had his/her current equipment\n",
    "6     webcap     Handset is web capable\n",
    "7     marryyes   Married (1=Yes; 0=No)\n",
    "8     travel     Has traveled to non-US country (1=Yes; 0=No)\n",
    "9     pcown      Owns a personal computer (1=Yes; 0=No)\n",
    "10    creditcd   Possesses a credit card (1=Yes; 0=No)\n",
    "11    retcalls   Number of calls previously made to retention team\n",
    "```\n",
    "\n",
    "The 12th column, the dependent variable `\"churndep\"`, equals 1 if the customer churned, and 0 otherwise. "
   ]
  },
  {
   "cell_type": "markdown",
   "metadata": {},
   "source": [
    "1\\. Load the data and prepare it for modeling. Note that the features are already processed for you, so the only thing needed here is split the data into training and testing. Use pandas to create two data frames: train_df and test_df, where train_df has 80% of the data chosen uniformly at random without replacement (test_df should have the other 20%). Also, make sure to write your own code to do the splits. You may use any random() function in numpy but DO NOT use the data splitting functions from Sklearn."
   ]
  },
  {
   "cell_type": "code",
   "execution_count": 2,
   "metadata": {},
   "outputs": [],
   "source": [
    "import pandas as pd\n",
    "\n",
    "feature_names = [\"revenue\", \"outcalls\", \n",
    "                                              \"incalls\", \n",
    "                                              \"months\",\n",
    "                                             \"eqpdays\",\n",
    "                                             \"webcap\",\n",
    "                                             \"marryyes\",\n",
    "                                             \"travel\",\n",
    "                                             \"pcown\",\n",
    "                                             \"creditcd\",\n",
    "                                             \"retcalls\"]\n",
    "all_names = feature_names + [\"churndep\"]\n",
    "read_df = pd.read_csv(\"cell2cell_data.csv\", names= all_names )\n",
    "\n",
    "train_df = read_df.sample(frac=0.8)\n",
    "test_df = read_df.loc[~read_df.index.isin(train_df.index)]\n"
   ]
  },
  {
   "cell_type": "markdown",
   "metadata": {},
   "source": [
    "2\\. If we had to, how would we prove to ourselves or a colleague that our data was indeed randomly sampled on X? And by prove, I mean empirically, not just showing this person our code. Don't actually do the work, just describe in your own words a test you could here. Hint: think about this in terms of selection bias and use notes from our 2nd lecture."
   ]
  },
  {
   "cell_type": "markdown",
   "metadata": {},
   "source": [
    "Random sampling means the probability of being in the sample is independant of any feature variable or the target variable. To test this, you could create a new column in your dataframes test and train, that is 1 for train and 0 for test. You could call that column \"in_sample\". Then you combine the dataframes and run correlation for all the columns against \"in_sample\". A quick google search is telling me we can use `df[df.columns[1:]].corr()['in_sample'][:]` . What you would be looking for is all of the correlations to be pretty close to zero. Of course you could run a significance test on them as well if your colleague is not satisfied with eyeballing the numbers. "
   ]
  },
  {
   "cell_type": "markdown",
   "metadata": {},
   "source": [
    "3\\. Now build and train a decision tree classifier using `DecisionTreeClassifier()` [(manual page)](http://scikit-learn.org/stable/modules/generated/sklearn.tree.DecisionTreeClassifier.html) on train_df to predict the `\"churndep\"` target variable. Make sure to use `criterion='entropy'` when instantiating an instance of `DecisionTreeClassifier()`. For all other settings you should use all of the default options."
   ]
  },
  {
   "cell_type": "code",
   "execution_count": 3,
   "metadata": {},
   "outputs": [
    {
     "data": {
      "text/plain": [
       "DecisionTreeClassifier(class_weight=None, criterion='entropy', max_depth=None,\n",
       "                       max_features=None, max_leaf_nodes=None,\n",
       "                       min_impurity_decrease=0.0, min_impurity_split=None,\n",
       "                       min_samples_leaf=1, min_samples_split=2,\n",
       "                       min_weight_fraction_leaf=0.0, presort=False,\n",
       "                       random_state=None, splitter='best')"
      ]
     },
     "execution_count": 3,
     "metadata": {},
     "output_type": "execute_result"
    }
   ],
   "source": [
    "from sklearn.tree import DecisionTreeClassifier\n",
    "model = DecisionTreeClassifier(criterion='entropy')\n",
    "model.fit(train_df.loc[:, train_df.columns != 'churndep'], train_df.churndep)"
   ]
  },
  {
   "cell_type": "markdown",
   "metadata": {},
   "source": [
    "4\\. Using the resulting model from 2.3, show a bar plot of feature names and their feature importance (hint: check the attributes of the `DecisionTreeClassifier()` object directly in IPython or check the manual!). Make sure the bar plot is sorted by increasing feature importance values."
   ]
  },
  {
   "cell_type": "code",
   "execution_count": 4,
   "metadata": {},
   "outputs": [
    {
     "data": {
      "image/png": "[encoded data removed]",
      "text/plain": [
       "<Figure size 432x288 with 1 Axes>"
      ]
     },
     "metadata": {
      "needs_background": "light"
     },
     "output_type": "display_data"
    }
   ],
   "source": [
    "import matplotlib.pyplot as plt\n",
    "%matplotlib inline\n",
    "import numpy as np\n",
    "\n",
    "importances = model.feature_importances_\n",
    "importance_df = pd.DataFrame({'feature':feature_names, 'importance':importances})\n",
    "importance_df = importance_df.sort_values(by=['importance'])\n",
    "\n",
    "plt.bar(importance_df.feature, importance_df.importance)\n",
    "plt.setp(plt.gca().get_xticklabels(), rotation=45, horizontalalignment='right')\n",
    "\n",
    "plt.ylabel('Importance')\n",
    "plt.xlabel('Feature')\n",
    "plt.title(\"Feature Importance\")\n",
    "\n",
    "plt.show()"
   ]
  },
  {
   "cell_type": "markdown",
   "metadata": {},
   "source": [
    "5\\. Is the relationship between the top 3 most important features (as measured here) negative or positive? If your marketing director asked you to explain the top 3 drivers of churn, how would you interpret the relationship between these 3 features and the churn outcome? What \"real-life\" connection can you draw between each variable and churn? Make sure to state your answer, and not just show code."
   ]
  },
  {
   "cell_type": "code",
   "execution_count": 5,
   "metadata": {},
   "outputs": [
    {
     "data": {
      "text/plain": [
       "revenue    -0.013694\n",
       "outcalls   -0.041113\n",
       "incalls    -0.044291\n",
       "months      0.022388\n",
       "eqpdays     0.113395\n",
       "webcap     -0.070628\n",
       "marryyes   -0.009112\n",
       "travel     -0.005808\n",
       "pcown      -0.000692\n",
       "creditcd   -0.012500\n",
       "retcalls    0.066634\n",
       "churndep    1.000000\n",
       "Name: churndep, dtype: float64"
      ]
     },
     "execution_count": 5,
     "metadata": {},
     "output_type": "execute_result"
    }
   ],
   "source": [
    "importance_df\n",
    "train_df.corr()['churndep']"
   ]
  },
  {
   "cell_type": "markdown",
   "metadata": {},
   "source": [
    "The most important features are revenue, eqpdays, and outcalls in that order.  \n",
    "\n",
    "Revenue has a negative correlation.  The problem statement doesn't tell us too much about what revenue is, but if it is the amount of money the company has made off the customer, this correlation makes sense. If the company is making more money off the customer, the customer is probably paying too much, or incurring tons of fees, etc. It makes sense that customer would be likely to leave. \n",
    "\n",
    "Eqpdays has a positive correlation suggesting that the longer the customer has had equiptment, which is representative of their time with the company, the more likely they are to leave. This makes some sense because people that have recently joined probably joined for a reason - they thought they were getting the best deal, they were offered some promo, whatever. People are not likely to leave right away. But over time they can become dissatisfied. \n",
    "\n",
    "outcalls has a negative correlation. I'm not sure what to make of this other than people that are not making that many calls are more likely to churn. Maybe your company doesn't have good plans for these people. Maybe they joined up thinking they were going to make more calls and justify the price. Maybe your company needs to look into better pay-by-use plans to help retain these lower volume customers. \n"
   ]
  },
  {
   "cell_type": "markdown",
   "metadata": {},
   "source": [
    "6\\. Using the classifier built in 2.3, try predicting \"churndep\" on both the train_df and test_df data sets. What is the accuracy on each? What is your explanation on the difference (or lackthereof) between the two accuracies?"
   ]
  },
  {
   "cell_type": "code",
   "execution_count": 6,
   "metadata": {},
   "outputs": [
    {
     "name": "stdout",
     "output_type": "stream",
     "text": [
      "Test Accuracy: 0.5299799297541394\n",
      "Training Accuracy: 0.9998745570295104\n"
     ]
    }
   ],
   "source": [
    "from sklearn import metrics\n",
    "\n",
    "test_df_feature_data = test_df.loc[:, test_df.columns != 'churndep']\n",
    "y_pred_test = model.predict(test_df_feature_data)\n",
    "y_actual_test = test_df.churndep\n",
    "print(\"Test Accuracy:\",metrics.accuracy_score(y_actual_test, y_pred_test))\n",
    "\n",
    "train_df_feature_data = train_df.loc[:, train_df.columns != 'churndep']\n",
    "y_pred_train = model.predict(train_df_feature_data)\n",
    "y_actual_train = train_df.churndep\n",
    "print(\"Training Accuracy:\",metrics.accuracy_score(y_actual_train, y_pred_train))"
   ]
  },
  {
   "cell_type": "markdown",
   "metadata": {},
   "source": [
    "The training accuracy is very high compared to test accuracy. This is because we left all the defautls on the decision tree and didn't limit the tree from overfitting.  "
   ]
  },
  {
   "cell_type": "markdown",
   "metadata": {},
   "source": [
    "### Part 3 - Finding a Good Decision Tree (10 Points)\n",
    "The default options for your decision tree may not be optimal. We need to analyze whether tuning the parameters can improve the accuracy of the classifier.  For the following options `min_samples_split` and `min_samples_leaf`:"
   ]
  },
  {
   "cell_type": "markdown",
   "metadata": {},
   "source": [
    "1\\. Generate a list of 10 values of each for the parameters mim_samples_split and min_samples_leaf. "
   ]
  },
  {
   "cell_type": "code",
   "execution_count": 13,
   "metadata": {},
   "outputs": [],
   "source": [
    "\n",
    "import math\n",
    "\n",
    "max_samples_split = len(train_df.index)\n",
    "current_max = math.floor(max_samples_split/2)\n",
    "min_samples_split = [current_max]\n",
    "for i in range(0,9):\n",
    "    new_split = current_max /2\n",
    "    min_samples_split.append(math.floor(new_split))\n",
    "    current_max = new_split\n",
    "\n",
    "max_samples_leaf = math.floor(len(train_df.index)/4)\n",
    "current_max = max_samples_leaf\n",
    "min_samples_leaf = [current_max]\n",
    "for i in range(0,9):\n",
    "    new_leaf = current_max /2\n",
    "    min_samples_leaf.append(math.floor(new_leaf))\n",
    "    current_max = new_leaf"
   ]
  },
  {
   "cell_type": "markdown",
   "metadata": {},
   "source": [
    "2\\. Explain in words your reasoning for choosing the above ranges."
   ]
  },
  {
   "cell_type": "markdown",
   "metadata": {},
   "source": [
    "For min samples split, we know the maximum minimum samples is the total number of observations in the dataset. For example, that would mean you could only do one split if you set min_samples_split equal to the number of observations. So I started with half the observations and divided by two repeatedly in order to get more tests of the lower numbers since we have seen from experience that the optimal combination is not likely to be in the very high mins. \n",
    "\n",
    "For min_samples_leaf, I did similar though the difference is that you can't start with number of observations as the first parameter becasue then you wouldn't be able to do any splits at all. So I started with observations/2. After one run through, I found the accuracy of min_leaf of observations/2 is always .5 and doesn't improve with any combination of max samples split, so I then bumped that down to start at observations/4 in order to get a little more interesting data and readable graph. "
   ]
  },
  {
   "cell_type": "markdown",
   "metadata": {},
   "source": [
    "3\\. For each combination of values in 3.1 (there should be 100), build a new classifier and check the classifier's accuracy on the test data. Plot the test set accuracy for these options. Use the values of `min_samples_split` as the x-axis and generate a new series (line) for each of `min_samples_leaf`."
   ]
  },
  {
   "cell_type": "code",
   "execution_count": 14,
   "metadata": {},
   "outputs": [],
   "source": [
    "import matplotlib.pyplot as plt\n",
    "%matplotlib inline\n",
    "\n",
    "accuracy_df = pd.DataFrame(columns=['min_split', 'min_leaf', 'accuracy'])\n",
    "train_df_feature_data = train_df.loc[:, train_df.columns != 'churndep']\n",
    "\n",
    "for min_split in min_samples_split:\n",
    "    for min_leaf in min_samples_leaf:\n",
    "        model = DecisionTreeClassifier(criterion='entropy', min_samples_split=min_split, min_samples_leaf=min_leaf)\n",
    "        model.fit(train_df_feature_data, train_df.churndep)    \n",
    "        test_df_feature_data = test_df.loc[:, test_df.columns != 'churndep']\n",
    "        y_pred_test = model.predict(test_df_feature_data)\n",
    "        y_actual_test = test_df.churndep\n",
    "        accuracy = metrics.accuracy_score(y_actual_test, y_pred_test)\n",
    "        accuracy_df.loc[len(accuracy_df)] = [min_split, min_leaf, accuracy]\n"
   ]
  },
  {
   "cell_type": "code",
   "execution_count": 15,
   "metadata": {},
   "outputs": [
    {
     "data": {
      "image/png": "[encoded data removed]",
      "text/plain": [
       "<Figure size 432x288 with 1 Axes>"
      ]
     },
     "metadata": {
      "needs_background": "light"
     },
     "output_type": "display_data"
    },
    {
     "data": {
      "text/plain": [
       "<Figure size 288x288 with 0 Axes>"
      ]
     },
     "metadata": {},
     "output_type": "display_data"
    }
   ],
   "source": [
    "for min_leaf in min_samples_leaf:\n",
    "    plt.plot( accuracy_df.loc[accuracy_df.min_leaf == min_leaf].min_split, accuracy_df.loc[accuracy_df.min_leaf == min_leaf].accuracy, marker='')\n",
    "plt.xlabel('min sample split')\n",
    "plt.figure(figsize=(4,4))\n",
    "plt.show()"
   ]
  },
  {
   "cell_type": "markdown",
   "metadata": {},
   "source": [
    "4\\. Which configuration returns the best accuracy? What is this accuracy? (Note, if you don't see much variation in the test set accuracy across values of min_samples_split or min_samples_leaf, try redoing the above steps with a different range of values), and reassess your answer in Q3.2."
   ]
  },
  {
   "cell_type": "code",
   "execution_count": 19,
   "metadata": {},
   "outputs": [
    {
     "name": "stdout",
     "output_type": "stream",
     "text": [
      "min_split    3985.000000\n",
      "min_leaf      249.000000\n",
      "accuracy        0.591696\n",
      "Name: 25, dtype: float64\n"
     ]
    }
   ],
   "source": [
    "best_accuracy_row = accuracy_df.loc[accuracy_df['accuracy'].idxmax()]\n",
    "print(best_accuracy_row)"
   ]
  },
  {
   "cell_type": "markdown",
   "metadata": {},
   "source": [
    "5\\. If you were working for a marketing department, how would you use your churn production model in a real business environment? Explain why churn prediction might be good for the business and how one might improve churn by using this model."
   ]
  },
  {
   "cell_type": "markdown",
   "metadata": {},
   "source": [
    "In industries that are oversaturated, like cell phone providers, it is very expensive to aquire new customers, and often worth an investment to try to keep the ones you have. So since our strongest predictor is revenue, there could be a cost tradeoff done to see if it's worth giving someone who you are making a lot of money off of (and hence high revenue) a bit of a better contract (lowering revenue) in hopes that that will make them stay longer. The business may have other opinions, but my naive assessment is that as long as your revenue is still positive with the new contract, you are still improving the outlook because that customer would be giving you zero revenue if they churn. The thing to consider might be uncertainty though. If we are only predicting churn at 60% accuracy, we could be lowering our revenue for no reason 40% of the time if we give out these offers to everyone. So maybe you get your model to give you probabilities and rankings so you can give your new contract offer to only those that we are most confident will churn. "
   ]
  },
  {
   "cell_type": "code",
   "execution_count": null,
   "metadata": {},
   "outputs": [],
   "source": []
  }
 ],
 "metadata": {
  "kernelspec": {
   "display_name": "Python 3",
   "language": "python",
   "name": "python3"
  },
  "language_info": {
   "codemirror_mode": {
    "name": "ipython",
    "version": 3
   },
   "file_extension": ".py",
   "mimetype": "text/x-python",
   "name": "python",
   "nbconvert_exporter": "python",
   "pygments_lexer": "ipython3",
   "version": "3.7.4"
  }
 },
 "nbformat": 4,
 "nbformat_minor": 1
}
